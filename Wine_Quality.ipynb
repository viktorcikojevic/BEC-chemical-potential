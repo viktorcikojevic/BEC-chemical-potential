{
  "nbformat": 4,
  "nbformat_minor": 0,
  "metadata": {
    "colab": {
      "name": "Wine Quality.ipynb",
      "provenance": [],
      "collapsed_sections": [],
      "authorship_tag": "ABX9TyO1PFoNVAseJWWeZwqxbGmb",
      "include_colab_link": true
    },
    "kernelspec": {
      "name": "python3",
      "display_name": "Python 3"
    },
    "language_info": {
      "name": "python"
    }
  },
  "cells": [
    {
      "cell_type": "markdown",
      "metadata": {
        "id": "view-in-github",
        "colab_type": "text"
      },
      "source": [
        "<a href=\"https://colab.research.google.com/github/viktorcikojevic/BEC-chemical-potential/blob/main/Wine_Quality.ipynb\" target=\"_parent\"><img src=\"https://colab.research.google.com/assets/colab-badge.svg\" alt=\"Open In Colab\"/></a>"
      ]
    },
    {
      "cell_type": "code",
      "metadata": {
        "id": "zHGzWI9JiBF2"
      },
      "source": [
        "import tensorflow as tf\n",
        "from tensorflow.keras.models import Model\n",
        "from tensorflow.keras.layers import Dense, Input\n",
        "\n",
        "import numpy as np\n",
        "import matplotlib.pyplot as plt\n",
        "import pandas as pd\n",
        "from sklearn.model_selection import train_test_split\n",
        "from sklearn.metrics import confusion_matrix\n",
        "import itertools"
      ],
      "execution_count": null,
      "outputs": []
    },
    {
      "cell_type": "code",
      "metadata": {
        "id": "pnnwajbnwqi7"
      },
      "source": [
        "\n",
        "# # URL of the white wine dataset\n",
        "URI = './winequality-white.csv'\n",
        "\n",
        "# # load the dataset from the URL\n",
        "white_df = pd.read_csv(URI, sep=\";\")\n",
        "\n",
        "# # fill the `is_red` column with zeros.\n",
        "white_df[\"is_red\"] = 0 \n",
        "\n",
        "# # keep only the first of duplicate items\n",
        "white_df = white_df.drop_duplicates(keep='first')\n"
      ],
      "execution_count": null,
      "outputs": []
    },
    {
      "cell_type": "code",
      "metadata": {
        "id": "fWvh32RYw8D_"
      },
      "source": [
        "# # URL of the red wine dataset\n",
        "URI = './winequality-red.csv'\n",
        "\n",
        "# # load the dataset from the URL\n",
        "red_df = pd.read_csv(URI, sep=\";\")\n",
        "\n",
        "# # fill the `is_red` column with ones.\n",
        "red_df[\"is_red\"] = 1 \n",
        "\n",
        "# # keep only the first of duplicate items\n",
        "red_df = red_df.drop_duplicates(keep='first')"
      ],
      "execution_count": null,
      "outputs": []
    },
    {
      "cell_type": "code",
      "metadata": {
        "id": "hegFdAL9w9_D"
      },
      "source": [
        "# concatenate the datesets\n",
        "df = pd.concat([red_df, white_df], ignore_index=True)\n"
      ],
      "execution_count": null,
      "outputs": []
    },
    {
      "cell_type": "code",
      "metadata": {
        "id": "hUUeb2QyxDnF"
      },
      "source": [
        "# shuffle the data\n",
        "df = df.iloc[np.random.permutation(len(df))]"
      ],
      "execution_count": null,
      "outputs": []
    },
    {
      "cell_type": "code",
      "metadata": {
        "colab": {
          "base_uri": "https://localhost:8080/",
          "height": 265
        },
        "id": "mcGPz88ExGhI",
        "outputId": "a3c539bc-07ca-4f76-b452-0843aa3e2be1"
      },
      "source": [
        "df['quality'].hist(bins=20);"
      ],
      "execution_count": null,
      "outputs": [
        {
          "output_type": "display_data",
          "data": {
            "image/png": "[encoded data removed]",
            "text/plain": [
              "<Figure size 432x288 with 1 Axes>"
            ]
          },
          "metadata": {
            "tags": [],
            "needs_background": "light"
          }
        }
      ]
    },
    {
      "cell_type": "code",
      "metadata": {
        "id": "IDmYcnkDxHfJ"
      },
      "source": [
        "'''\n",
        "You can see from the plot above that the wine quality dataset is imbalanced.\n",
        "\n",
        "Since there are very few observations with quality equal to 3, 4, 8 and 9, you can drop these observations from your dataset.\n",
        "You can do this by removing data belonging to all classes except those > 4 and < 8.\n",
        "'''\n",
        "\n",
        "# # get data with wine quality greater than 4 and less than 8\n",
        "df = df[(df['quality'] > 4) & (df['quality'] < 8 )] \n",
        "\n",
        "# # reset index and drop the old one\n",
        "df = df.reset_index(drop=True)"
      ],
      "execution_count": null,
      "outputs": []
    },
    {
      "cell_type": "code",
      "metadata": {
        "colab": {
          "base_uri": "https://localhost:8080/",
          "height": 265
        },
        "id": "nA73fwNZxLsq",
        "outputId": "85d6d45f-4dad-4f52-fa3b-fdf09ff67a18"
      },
      "source": [
        "df['quality'].hist(bins=20);\n"
      ],
      "execution_count": null,
      "outputs": [
        {
          "output_type": "display_data",
          "data": {
            "image/png": "[encoded data removed]",
            "text/plain": [
              "<Figure size 432x288 with 1 Axes>"
            ]
          },
          "metadata": {
            "tags": [],
            "needs_background": "light"
          }
        }
      ]
    },
    {
      "cell_type": "code",
      "metadata": {
        "id": "WAhDBbdRxNcC"
      },
      "source": [
        "\n",
        "## Please do not change the random_state parameter. This is needed for grading.\n",
        "\n",
        "# # split df into 80:20 train and test sets\n",
        "train, test = train_test_split(df, test_size=0.2, random_state=1) \n",
        "                               \n",
        "# # split train into 80:20 train and val sets\n",
        "train, val = train_test_split(train, test_size=0.2, random_state=1) "
      ],
      "execution_count": null,
      "outputs": []
    },
    {
      "cell_type": "code",
      "metadata": {
        "id": "yK_kjYAqxPEU"
      },
      "source": [
        "train_stats = train.describe()\n",
        "train_stats.pop('is_red')\n",
        "train_stats.pop('quality')\n",
        "train_stats = train_stats.transpose()"
      ],
      "execution_count": null,
      "outputs": []
    },
    {
      "cell_type": "code",
      "metadata": {
        "colab": {
          "base_uri": "https://localhost:8080/",
          "height": 390
        },
        "id": "llHyiIl5xQn1",
        "outputId": "510a6d03-8cb0-4d78-e3b1-4afd6680a8ea"
      },
      "source": [
        "train_stats"
      ],
      "execution_count": null,
      "outputs": [
        {
          "output_type": "execute_result",
          "data": {
            "text/html": [
              "<div>\n",
              "<style scoped>\n",
              "    .dataframe tbody tr th:only-of-type {\n",
              "        vertical-align: middle;\n",
              "    }\n",
              "\n",
              "    .dataframe tbody tr th {\n",
              "        vertical-align: top;\n",
              "    }\n",
              "\n",
              "    .dataframe thead th {\n",
              "        text-align: right;\n",
              "    }\n",
              "</style>\n",
              "<table border=\"1\" class=\"dataframe\">\n",
              "  <thead>\n",
              "    <tr style=\"text-align: right;\">\n",
              "      <th></th>\n",
              "      <th>count</th>\n",
              "      <th>mean</th>\n",
              "      <th>std</th>\n",
              "      <th>min</th>\n",
              "      <th>25%</th>\n",
              "      <th>50%</th>\n",
              "      <th>75%</th>\n",
              "      <th>max</th>\n",
              "    </tr>\n",
              "  </thead>\n",
              "  <tbody>\n",
              "    <tr>\n",
              "      <th>fixed acidity</th>\n",
              "      <td>3155.0</td>\n",
              "      <td>7.205816</td>\n",
              "      <td>1.320140</td>\n",
              "      <td>3.80000</td>\n",
              "      <td>6.4000</td>\n",
              "      <td>6.90000</td>\n",
              "      <td>7.700000</td>\n",
              "      <td>15.9000</td>\n",
              "    </tr>\n",
              "    <tr>\n",
              "      <th>volatile acidity</th>\n",
              "      <td>3155.0</td>\n",
              "      <td>0.338022</td>\n",
              "      <td>0.162480</td>\n",
              "      <td>0.08000</td>\n",
              "      <td>0.2300</td>\n",
              "      <td>0.29000</td>\n",
              "      <td>0.400000</td>\n",
              "      <td>1.3300</td>\n",
              "    </tr>\n",
              "    <tr>\n",
              "      <th>citric acid</th>\n",
              "      <td>3155.0</td>\n",
              "      <td>0.317204</td>\n",
              "      <td>0.143821</td>\n",
              "      <td>0.00000</td>\n",
              "      <td>0.2400</td>\n",
              "      <td>0.31000</td>\n",
              "      <td>0.390000</td>\n",
              "      <td>1.2300</td>\n",
              "    </tr>\n",
              "    <tr>\n",
              "      <th>residual sugar</th>\n",
              "      <td>3155.0</td>\n",
              "      <td>5.138193</td>\n",
              "      <td>4.460111</td>\n",
              "      <td>0.60000</td>\n",
              "      <td>1.8000</td>\n",
              "      <td>2.80000</td>\n",
              "      <td>7.700000</td>\n",
              "      <td>23.5000</td>\n",
              "    </tr>\n",
              "    <tr>\n",
              "      <th>chlorides</th>\n",
              "      <td>3155.0</td>\n",
              "      <td>0.055677</td>\n",
              "      <td>0.034111</td>\n",
              "      <td>0.00900</td>\n",
              "      <td>0.0380</td>\n",
              "      <td>0.04700</td>\n",
              "      <td>0.065000</td>\n",
              "      <td>0.6110</td>\n",
              "    </tr>\n",
              "    <tr>\n",
              "      <th>free sulfur dioxide</th>\n",
              "      <td>3155.0</td>\n",
              "      <td>30.489699</td>\n",
              "      <td>17.032927</td>\n",
              "      <td>1.00000</td>\n",
              "      <td>17.0000</td>\n",
              "      <td>29.00000</td>\n",
              "      <td>41.000000</td>\n",
              "      <td>131.0000</td>\n",
              "    </tr>\n",
              "    <tr>\n",
              "      <th>total sulfur dioxide</th>\n",
              "      <td>3155.0</td>\n",
              "      <td>115.761331</td>\n",
              "      <td>56.186737</td>\n",
              "      <td>6.00000</td>\n",
              "      <td>78.0000</td>\n",
              "      <td>118.00000</td>\n",
              "      <td>156.000000</td>\n",
              "      <td>313.0000</td>\n",
              "    </tr>\n",
              "    <tr>\n",
              "      <th>density</th>\n",
              "      <td>3155.0</td>\n",
              "      <td>0.994546</td>\n",
              "      <td>0.002885</td>\n",
              "      <td>0.98711</td>\n",
              "      <td>0.9922</td>\n",
              "      <td>0.99474</td>\n",
              "      <td>0.996745</td>\n",
              "      <td>1.0032</td>\n",
              "    </tr>\n",
              "    <tr>\n",
              "      <th>pH</th>\n",
              "      <td>3155.0</td>\n",
              "      <td>3.221997</td>\n",
              "      <td>0.159757</td>\n",
              "      <td>2.74000</td>\n",
              "      <td>3.1100</td>\n",
              "      <td>3.21000</td>\n",
              "      <td>3.320000</td>\n",
              "      <td>4.0100</td>\n",
              "    </tr>\n",
              "    <tr>\n",
              "      <th>sulphates</th>\n",
              "      <td>3155.0</td>\n",
              "      <td>0.531658</td>\n",
              "      <td>0.144198</td>\n",
              "      <td>0.22000</td>\n",
              "      <td>0.4300</td>\n",
              "      <td>0.51000</td>\n",
              "      <td>0.600000</td>\n",
              "      <td>1.9500</td>\n",
              "    </tr>\n",
              "    <tr>\n",
              "      <th>alcohol</th>\n",
              "      <td>3155.0</td>\n",
              "      <td>10.525974</td>\n",
              "      <td>1.175206</td>\n",
              "      <td>8.00000</td>\n",
              "      <td>9.5000</td>\n",
              "      <td>10.40000</td>\n",
              "      <td>11.300000</td>\n",
              "      <td>14.9000</td>\n",
              "    </tr>\n",
              "  </tbody>\n",
              "</table>\n",
              "</div>"
            ],
            "text/plain": [
              "                       count        mean  ...         75%       max\n",
              "fixed acidity         3155.0    7.205816  ...    7.700000   15.9000\n",
              "volatile acidity      3155.0    0.338022  ...    0.400000    1.3300\n",
              "citric acid           3155.0    0.317204  ...    0.390000    1.2300\n",
              "residual sugar        3155.0    5.138193  ...    7.700000   23.5000\n",
              "chlorides             3155.0    0.055677  ...    0.065000    0.6110\n",
              "free sulfur dioxide   3155.0   30.489699  ...   41.000000  131.0000\n",
              "total sulfur dioxide  3155.0  115.761331  ...  156.000000  313.0000\n",
              "density               3155.0    0.994546  ...    0.996745    1.0032\n",
              "pH                    3155.0    3.221997  ...    3.320000    4.0100\n",
              "sulphates             3155.0    0.531658  ...    0.600000    1.9500\n",
              "alcohol               3155.0   10.525974  ...   11.300000   14.9000\n",
              "\n",
              "[11 rows x 8 columns]"
            ]
          },
          "metadata": {
            "tags": []
          },
          "execution_count": 11
        }
      ]
    },
    {
      "cell_type": "code",
      "metadata": {
        "id": "WpePtP63xR1O"
      },
      "source": [
        "def format_output(data):\n",
        "    is_red = data.pop('is_red')\n",
        "    is_red = np.array(is_red)\n",
        "    quality = data.pop('quality')\n",
        "    quality = np.array(quality)\n",
        "    return (quality, is_red)"
      ],
      "execution_count": null,
      "outputs": []
    },
    {
      "cell_type": "code",
      "metadata": {
        "id": "85bzPvMAxTCr"
      },
      "source": [
        "# # format the output of the train set\n",
        "train_Y = format_output(train)\n",
        "\n",
        "# # format the output of the val set\n",
        "val_Y = format_output(val) \n",
        "    \n",
        "# # format the output of the test set\n",
        "test_Y = format_output(test) "
      ],
      "execution_count": null,
      "outputs": []
    },
    {
      "cell_type": "code",
      "metadata": {
        "colab": {
          "base_uri": "https://localhost:8080/",
          "height": 258
        },
        "id": "-mKkNbJzxUvx",
        "outputId": "368d53ec-9a32-4130-e780-f7841f449b37"
      },
      "source": [
        "train.head()"
      ],
      "execution_count": null,
      "outputs": [
        {
          "output_type": "execute_result",
          "data": {
            "text/html": [
              "<div>\n",
              "<style scoped>\n",
              "    .dataframe tbody tr th:only-of-type {\n",
              "        vertical-align: middle;\n",
              "    }\n",
              "\n",
              "    .dataframe tbody tr th {\n",
              "        vertical-align: top;\n",
              "    }\n",
              "\n",
              "    .dataframe thead th {\n",
              "        text-align: right;\n",
              "    }\n",
              "</style>\n",
              "<table border=\"1\" class=\"dataframe\">\n",
              "  <thead>\n",
              "    <tr style=\"text-align: right;\">\n",
              "      <th></th>\n",
              "      <th>fixed acidity</th>\n",
              "      <th>volatile acidity</th>\n",
              "      <th>citric acid</th>\n",
              "      <th>residual sugar</th>\n",
              "      <th>chlorides</th>\n",
              "      <th>free sulfur dioxide</th>\n",
              "      <th>total sulfur dioxide</th>\n",
              "      <th>density</th>\n",
              "      <th>pH</th>\n",
              "      <th>sulphates</th>\n",
              "      <th>alcohol</th>\n",
              "    </tr>\n",
              "  </thead>\n",
              "  <tbody>\n",
              "    <tr>\n",
              "      <th>225</th>\n",
              "      <td>5.0</td>\n",
              "      <td>0.24</td>\n",
              "      <td>0.21</td>\n",
              "      <td>2.2</td>\n",
              "      <td>0.039</td>\n",
              "      <td>31.0</td>\n",
              "      <td>100.0</td>\n",
              "      <td>0.99098</td>\n",
              "      <td>3.69</td>\n",
              "      <td>0.62</td>\n",
              "      <td>11.7</td>\n",
              "    </tr>\n",
              "    <tr>\n",
              "      <th>3557</th>\n",
              "      <td>7.3</td>\n",
              "      <td>0.15</td>\n",
              "      <td>0.40</td>\n",
              "      <td>2.0</td>\n",
              "      <td>0.050</td>\n",
              "      <td>24.0</td>\n",
              "      <td>92.0</td>\n",
              "      <td>0.99320</td>\n",
              "      <td>3.14</td>\n",
              "      <td>0.45</td>\n",
              "      <td>10.5</td>\n",
              "    </tr>\n",
              "    <tr>\n",
              "      <th>3825</th>\n",
              "      <td>7.8</td>\n",
              "      <td>0.16</td>\n",
              "      <td>0.41</td>\n",
              "      <td>1.7</td>\n",
              "      <td>0.026</td>\n",
              "      <td>29.0</td>\n",
              "      <td>140.0</td>\n",
              "      <td>0.99100</td>\n",
              "      <td>3.02</td>\n",
              "      <td>0.78</td>\n",
              "      <td>12.5</td>\n",
              "    </tr>\n",
              "    <tr>\n",
              "      <th>1740</th>\n",
              "      <td>7.1</td>\n",
              "      <td>0.17</td>\n",
              "      <td>0.31</td>\n",
              "      <td>1.6</td>\n",
              "      <td>0.037</td>\n",
              "      <td>15.0</td>\n",
              "      <td>103.0</td>\n",
              "      <td>0.99100</td>\n",
              "      <td>3.14</td>\n",
              "      <td>0.50</td>\n",
              "      <td>12.0</td>\n",
              "    </tr>\n",
              "    <tr>\n",
              "      <th>1221</th>\n",
              "      <td>5.8</td>\n",
              "      <td>0.29</td>\n",
              "      <td>0.05</td>\n",
              "      <td>0.8</td>\n",
              "      <td>0.038</td>\n",
              "      <td>11.0</td>\n",
              "      <td>30.0</td>\n",
              "      <td>0.99240</td>\n",
              "      <td>3.36</td>\n",
              "      <td>0.35</td>\n",
              "      <td>9.2</td>\n",
              "    </tr>\n",
              "  </tbody>\n",
              "</table>\n",
              "</div>"
            ],
            "text/plain": [
              "      fixed acidity  volatile acidity  citric acid  ...    pH  sulphates  alcohol\n",
              "225             5.0              0.24         0.21  ...  3.69       0.62     11.7\n",
              "3557            7.3              0.15         0.40  ...  3.14       0.45     10.5\n",
              "3825            7.8              0.16         0.41  ...  3.02       0.78     12.5\n",
              "1740            7.1              0.17         0.31  ...  3.14       0.50     12.0\n",
              "1221            5.8              0.29         0.05  ...  3.36       0.35      9.2\n",
              "\n",
              "[5 rows x 11 columns]"
            ]
          },
          "metadata": {
            "tags": []
          },
          "execution_count": 14
        }
      ]
    },
    {
      "cell_type": "code",
      "metadata": {
        "id": "lW7ZR-pgxV-E"
      },
      "source": [
        "def norm(x):\n",
        "    return (x - train_stats['mean']) / train_stats['std']"
      ],
      "execution_count": null,
      "outputs": []
    },
    {
      "cell_type": "code",
      "metadata": {
        "id": "yx__Kb4GxXGl"
      },
      "source": [
        "# # normalize the train set\n",
        "norm_train_X = norm(train) \n",
        "    \n",
        "# # normalize the val set\n",
        "norm_val_X = norm(val) \n",
        "    \n",
        "# # normalize the test set\n",
        "norm_test_X = norm(test) "
      ],
      "execution_count": null,
      "outputs": []
    },
    {
      "cell_type": "code",
      "metadata": {
        "id": "8tybOulUxfwc"
      },
      "source": [
        "def base_model(inputs):    #     # connect a Dense layer with 128 neurons and a relu activation\n",
        "    x = Dense(128, activation='relu')(inputs) # YOUR CODE HERE #     # connect another Dense layer with 128 neurons and a relu activation\n",
        "    x = Dense(128, activation='relu')(x) # YOUR CODE HERE\n",
        "    return x\n",
        "  "
      ],
      "execution_count": null,
      "outputs": []
    },
    {
      "cell_type": "code",
      "metadata": {
        "id": "NdZmYiFexhf9"
      },
      "source": [
        "\n",
        "def final_model(inputs):\n",
        "        \n",
        "#     # get the base model\n",
        "     x = base_model(inputs)\n",
        "#     # connect the output Dense layer for regression\n",
        "     wine_quality = Dense(units='1', name='wine_quality')(x)\n",
        "#     # connect the output Dense layer for classification. this will use a sigmoid activation.\n",
        "     wine_type = Dense(units='1', activation='sigmoid', name='wine_type')(x) \n",
        "#     # define the model using the input and output layers\n",
        "     model = Model(inputs=inputs, outputs=[wine_quality, wine_type]) \n",
        "\n",
        "     return model"
      ],
      "execution_count": null,
      "outputs": []
    },
    {
      "cell_type": "code",
      "metadata": {
        "id": "jMJ8FywBxlSd"
      },
      "source": [
        "\n",
        "inputs = tf.keras.layers.Input(shape=(11,))\n",
        "rms = tf.keras.optimizers.RMSprop(learning_rate=0.0001)\n",
        "model = final_model(inputs)\n",
        "\n",
        "model.compile(optimizer=rms, \n",
        "              loss = {'wine_type' : 'binary_crossentropy', \n",
        "                       'wine_quality' : 'mse' \n",
        "                      },\n",
        "               metrics = {'wine_type' : 'binary_accuracy', \n",
        "                          'wine_quality': 'RootMeanSquaredError'\n",
        "                        }\n",
        "              )\n"
      ],
      "execution_count": null,
      "outputs": []
    },
    {
      "cell_type": "code",
      "metadata": {
        "colab": {
          "base_uri": "https://localhost:8080/"
        },
        "id": "qP_vN1B6xm3E",
        "outputId": "fe2963df-df52-4f0c-a2b4-fa96dc38c58d"
      },
      "source": [
        "\n",
        "\n",
        "history = model.fit( norm_train_X, train_Y,\n",
        "                     epochs=180, validation_data =(norm_val_X, val_Y)   )"
      ],
      "execution_count": null,
      "outputs": [
        {
          "output_type": "stream",
          "text": [
            "Epoch 1/180\n",
            "99/99 [==============================] - 2s 6ms/step - loss: 25.9007 - wine_quality_loss: 25.2409 - wine_type_loss: 0.6598 - wine_quality_root_mean_squared_error: 5.0240 - wine_type_binary_accuracy: 0.6777 - val_loss: 17.9066 - val_wine_quality_loss: 17.2871 - val_wine_type_loss: 0.6195 - val_wine_quality_root_mean_squared_error: 4.1578 - val_wine_type_binary_accuracy: 0.7605\n",
            "Epoch 2/180\n",
            "99/99 [==============================] - 0s 3ms/step - loss: 11.7314 - wine_quality_loss: 11.1553 - wine_type_loss: 0.5761 - wine_quality_root_mean_squared_error: 3.3400 - wine_type_binary_accuracy: 0.7588 - val_loss: 6.7617 - val_wine_quality_loss: 6.2188 - val_wine_type_loss: 0.5430 - val_wine_quality_root_mean_squared_error: 2.4937 - val_wine_type_binary_accuracy: 0.7326\n",
            "Epoch 3/180\n",
            "99/99 [==============================] - 0s 3ms/step - loss: 4.3698 - wine_quality_loss: 3.8798 - wine_type_loss: 0.4900 - wine_quality_root_mean_squared_error: 1.9697 - wine_type_binary_accuracy: 0.7550 - val_loss: 3.2965 - val_wine_quality_loss: 2.8467 - val_wine_type_loss: 0.4498 - val_wine_quality_root_mean_squared_error: 1.6872 - val_wine_type_binary_accuracy: 0.7858\n",
            "Epoch 4/180\n",
            "99/99 [==============================] - 0s 3ms/step - loss: 2.7368 - wine_quality_loss: 2.3458 - wine_type_loss: 0.3910 - wine_quality_root_mean_squared_error: 1.5316 - wine_type_binary_accuracy: 0.8428 - val_loss: 2.6270 - val_wine_quality_loss: 2.2665 - val_wine_type_loss: 0.3605 - val_wine_quality_root_mean_squared_error: 1.5055 - val_wine_type_binary_accuracy: 0.8809\n",
            "Epoch 5/180\n",
            "99/99 [==============================] - 0s 2ms/step - loss: 2.3220 - wine_quality_loss: 2.0129 - wine_type_loss: 0.3091 - wine_quality_root_mean_squared_error: 1.4188 - wine_type_binary_accuracy: 0.9211 - val_loss: 2.2487 - val_wine_quality_loss: 1.9637 - val_wine_type_loss: 0.2850 - val_wine_quality_root_mean_squared_error: 1.4013 - val_wine_type_binary_accuracy: 0.9430\n",
            "Epoch 6/180\n",
            "99/99 [==============================] - 0s 2ms/step - loss: 2.0349 - wine_quality_loss: 1.7932 - wine_type_loss: 0.2417 - wine_quality_root_mean_squared_error: 1.3391 - wine_type_binary_accuracy: 0.9680 - val_loss: 1.9641 - val_wine_quality_loss: 1.7375 - val_wine_type_loss: 0.2266 - val_wine_quality_root_mean_squared_error: 1.3181 - val_wine_type_binary_accuracy: 0.9721\n",
            "Epoch 7/180\n",
            "99/99 [==============================] - 0s 3ms/step - loss: 1.8024 - wine_quality_loss: 1.6125 - wine_type_loss: 0.1899 - wine_quality_root_mean_squared_error: 1.2699 - wine_type_binary_accuracy: 0.9800 - val_loss: 1.7382 - val_wine_quality_loss: 1.5576 - val_wine_type_loss: 0.1807 - val_wine_quality_root_mean_squared_error: 1.2480 - val_wine_type_binary_accuracy: 0.9797\n",
            "Epoch 8/180\n",
            "99/99 [==============================] - 0s 3ms/step - loss: 1.6232 - wine_quality_loss: 1.4723 - wine_type_loss: 0.1509 - wine_quality_root_mean_squared_error: 1.2134 - wine_type_binary_accuracy: 0.9857 - val_loss: 1.5803 - val_wine_quality_loss: 1.4320 - val_wine_type_loss: 0.1483 - val_wine_quality_root_mean_squared_error: 1.1967 - val_wine_type_binary_accuracy: 0.9835\n",
            "Epoch 9/180\n",
            "99/99 [==============================] - 0s 2ms/step - loss: 1.4770 - wine_quality_loss: 1.3544 - wine_type_loss: 0.1226 - wine_quality_root_mean_squared_error: 1.1638 - wine_type_binary_accuracy: 0.9886 - val_loss: 1.4484 - val_wine_quality_loss: 1.3232 - val_wine_type_loss: 0.1252 - val_wine_quality_root_mean_squared_error: 1.1503 - val_wine_type_binary_accuracy: 0.9835\n",
            "Epoch 10/180\n",
            "99/99 [==============================] - 0s 2ms/step - loss: 1.3547 - wine_quality_loss: 1.2527 - wine_type_loss: 0.1020 - wine_quality_root_mean_squared_error: 1.1192 - wine_type_binary_accuracy: 0.9902 - val_loss: 1.3347 - val_wine_quality_loss: 1.2267 - val_wine_type_loss: 0.1080 - val_wine_quality_root_mean_squared_error: 1.1076 - val_wine_type_binary_accuracy: 0.9835\n",
            "Epoch 11/180\n",
            "99/99 [==============================] - 0s 3ms/step - loss: 1.2511 - wine_quality_loss: 1.1647 - wine_type_loss: 0.0863 - wine_quality_root_mean_squared_error: 1.0792 - wine_type_binary_accuracy: 0.9918 - val_loss: 1.2353 - val_wine_quality_loss: 1.1399 - val_wine_type_loss: 0.0953 - val_wine_quality_root_mean_squared_error: 1.0677 - val_wine_type_binary_accuracy: 0.9835\n",
            "Epoch 12/180\n",
            "99/99 [==============================] - 0s 2ms/step - loss: 1.1554 - wine_quality_loss: 1.0806 - wine_type_loss: 0.0748 - wine_quality_root_mean_squared_error: 1.0395 - wine_type_binary_accuracy: 0.9921 - val_loss: 1.1545 - val_wine_quality_loss: 1.0692 - val_wine_type_loss: 0.0853 - val_wine_quality_root_mean_squared_error: 1.0340 - val_wine_type_binary_accuracy: 0.9848\n",
            "Epoch 13/180\n",
            "99/99 [==============================] - 0s 2ms/step - loss: 1.0751 - wine_quality_loss: 1.0095 - wine_type_loss: 0.0656 - wine_quality_root_mean_squared_error: 1.0047 - wine_type_binary_accuracy: 0.9924 - val_loss: 1.0794 - val_wine_quality_loss: 1.0014 - val_wine_type_loss: 0.0781 - val_wine_quality_root_mean_squared_error: 1.0007 - val_wine_type_binary_accuracy: 0.9848\n",
            "Epoch 14/180\n",
            "99/99 [==============================] - 0s 3ms/step - loss: 0.9998 - wine_quality_loss: 0.9410 - wine_type_loss: 0.0588 - wine_quality_root_mean_squared_error: 0.9700 - wine_type_binary_accuracy: 0.9924 - val_loss: 1.0226 - val_wine_quality_loss: 0.9503 - val_wine_type_loss: 0.0722 - val_wine_quality_root_mean_squared_error: 0.9749 - val_wine_type_binary_accuracy: 0.9873\n",
            "Epoch 15/180\n",
            "99/99 [==============================] - 0s 3ms/step - loss: 0.9370 - wine_quality_loss: 0.8836 - wine_type_loss: 0.0534 - wine_quality_root_mean_squared_error: 0.9400 - wine_type_binary_accuracy: 0.9937 - val_loss: 0.9583 - val_wine_quality_loss: 0.8901 - val_wine_type_loss: 0.0681 - val_wine_quality_root_mean_squared_error: 0.9435 - val_wine_type_binary_accuracy: 0.9873\n",
            "Epoch 16/180\n",
            "99/99 [==============================] - 0s 2ms/step - loss: 0.8778 - wine_quality_loss: 0.8286 - wine_type_loss: 0.0492 - wine_quality_root_mean_squared_error: 0.9103 - wine_type_binary_accuracy: 0.9937 - val_loss: 0.9069 - val_wine_quality_loss: 0.8420 - val_wine_type_loss: 0.0649 - val_wine_quality_root_mean_squared_error: 0.9176 - val_wine_type_binary_accuracy: 0.9873\n",
            "Epoch 17/180\n",
            "99/99 [==============================] - 0s 3ms/step - loss: 0.8221 - wine_quality_loss: 0.7763 - wine_type_loss: 0.0458 - wine_quality_root_mean_squared_error: 0.8811 - wine_type_binary_accuracy: 0.9933 - val_loss: 0.8635 - val_wine_quality_loss: 0.8014 - val_wine_type_loss: 0.0621 - val_wine_quality_root_mean_squared_error: 0.8952 - val_wine_type_binary_accuracy: 0.9873\n",
            "Epoch 18/180\n",
            "99/99 [==============================] - 0s 3ms/step - loss: 0.7719 - wine_quality_loss: 0.7290 - wine_type_loss: 0.0430 - wine_quality_root_mean_squared_error: 0.8538 - wine_type_binary_accuracy: 0.9937 - val_loss: 0.8126 - val_wine_quality_loss: 0.7528 - val_wine_type_loss: 0.0598 - val_wine_quality_root_mean_squared_error: 0.8677 - val_wine_type_binary_accuracy: 0.9873\n",
            "Epoch 19/180\n",
            "99/99 [==============================] - 0s 3ms/step - loss: 0.7260 - wine_quality_loss: 0.6854 - wine_type_loss: 0.0407 - wine_quality_root_mean_squared_error: 0.8279 - wine_type_binary_accuracy: 0.9940 - val_loss: 0.7682 - val_wine_quality_loss: 0.7102 - val_wine_type_loss: 0.0580 - val_wine_quality_root_mean_squared_error: 0.8427 - val_wine_type_binary_accuracy: 0.9873\n",
            "Epoch 20/180\n",
            "99/99 [==============================] - 0s 3ms/step - loss: 0.6847 - wine_quality_loss: 0.6460 - wine_type_loss: 0.0387 - wine_quality_root_mean_squared_error: 0.8037 - wine_type_binary_accuracy: 0.9943 - val_loss: 0.7384 - val_wine_quality_loss: 0.6819 - val_wine_type_loss: 0.0565 - val_wine_quality_root_mean_squared_error: 0.8258 - val_wine_type_binary_accuracy: 0.9873\n",
            "Epoch 21/180\n",
            "99/99 [==============================] - 0s 2ms/step - loss: 0.6462 - wine_quality_loss: 0.6090 - wine_type_loss: 0.0371 - wine_quality_root_mean_squared_error: 0.7804 - wine_type_binary_accuracy: 0.9943 - val_loss: 0.7087 - val_wine_quality_loss: 0.6533 - val_wine_type_loss: 0.0554 - val_wine_quality_root_mean_squared_error: 0.8083 - val_wine_type_binary_accuracy: 0.9873\n",
            "Epoch 22/180\n",
            "99/99 [==============================] - 0s 3ms/step - loss: 0.6154 - wine_quality_loss: 0.5796 - wine_type_loss: 0.0358 - wine_quality_root_mean_squared_error: 0.7613 - wine_type_binary_accuracy: 0.9943 - val_loss: 0.6833 - val_wine_quality_loss: 0.6288 - val_wine_type_loss: 0.0545 - val_wine_quality_root_mean_squared_error: 0.7930 - val_wine_type_binary_accuracy: 0.9873\n",
            "Epoch 23/180\n",
            "99/99 [==============================] - 0s 2ms/step - loss: 0.5829 - wine_quality_loss: 0.5482 - wine_type_loss: 0.0347 - wine_quality_root_mean_squared_error: 0.7404 - wine_type_binary_accuracy: 0.9943 - val_loss: 0.6613 - val_wine_quality_loss: 0.6075 - val_wine_type_loss: 0.0538 - val_wine_quality_root_mean_squared_error: 0.7794 - val_wine_type_binary_accuracy: 0.9873\n",
            "Epoch 24/180\n",
            "99/99 [==============================] - 0s 3ms/step - loss: 0.5597 - wine_quality_loss: 0.5260 - wine_type_loss: 0.0337 - wine_quality_root_mean_squared_error: 0.7253 - wine_type_binary_accuracy: 0.9943 - val_loss: 0.6239 - val_wine_quality_loss: 0.5709 - val_wine_type_loss: 0.0530 - val_wine_quality_root_mean_squared_error: 0.7555 - val_wine_type_binary_accuracy: 0.9886\n",
            "Epoch 25/180\n",
            "99/99 [==============================] - 0s 3ms/step - loss: 0.5347 - wine_quality_loss: 0.5018 - wine_type_loss: 0.0329 - wine_quality_root_mean_squared_error: 0.7084 - wine_type_binary_accuracy: 0.9943 - val_loss: 0.6078 - val_wine_quality_loss: 0.5553 - val_wine_type_loss: 0.0525 - val_wine_quality_root_mean_squared_error: 0.7452 - val_wine_type_binary_accuracy: 0.9886\n",
            "Epoch 26/180\n",
            "99/99 [==============================] - 0s 3ms/step - loss: 0.5106 - wine_quality_loss: 0.4786 - wine_type_loss: 0.0321 - wine_quality_root_mean_squared_error: 0.6918 - wine_type_binary_accuracy: 0.9943 - val_loss: 0.5833 - val_wine_quality_loss: 0.5312 - val_wine_type_loss: 0.0521 - val_wine_quality_root_mean_squared_error: 0.7288 - val_wine_type_binary_accuracy: 0.9886\n",
            "Epoch 27/180\n",
            "99/99 [==============================] - 0s 3ms/step - loss: 0.4939 - wine_quality_loss: 0.4625 - wine_type_loss: 0.0314 - wine_quality_root_mean_squared_error: 0.6801 - wine_type_binary_accuracy: 0.9946 - val_loss: 0.5659 - val_wine_quality_loss: 0.5142 - val_wine_type_loss: 0.0517 - val_wine_quality_root_mean_squared_error: 0.7171 - val_wine_type_binary_accuracy: 0.9886\n",
            "Epoch 28/180\n",
            "99/99 [==============================] - 0s 2ms/step - loss: 0.4763 - wine_quality_loss: 0.4455 - wine_type_loss: 0.0308 - wine_quality_root_mean_squared_error: 0.6675 - wine_type_binary_accuracy: 0.9949 - val_loss: 0.5531 - val_wine_quality_loss: 0.5020 - val_wine_type_loss: 0.0512 - val_wine_quality_root_mean_squared_error: 0.7085 - val_wine_type_binary_accuracy: 0.9886\n",
            "Epoch 29/180\n",
            "99/99 [==============================] - 0s 3ms/step - loss: 0.4597 - wine_quality_loss: 0.4295 - wine_type_loss: 0.0302 - wine_quality_root_mean_squared_error: 0.6554 - wine_type_binary_accuracy: 0.9949 - val_loss: 0.5387 - val_wine_quality_loss: 0.4878 - val_wine_type_loss: 0.0509 - val_wine_quality_root_mean_squared_error: 0.6984 - val_wine_type_binary_accuracy: 0.9886\n",
            "Epoch 30/180\n",
            "99/99 [==============================] - 0s 3ms/step - loss: 0.4457 - wine_quality_loss: 0.4161 - wine_type_loss: 0.0296 - wine_quality_root_mean_squared_error: 0.6451 - wine_type_binary_accuracy: 0.9943 - val_loss: 0.5343 - val_wine_quality_loss: 0.4835 - val_wine_type_loss: 0.0508 - val_wine_quality_root_mean_squared_error: 0.6953 - val_wine_type_binary_accuracy: 0.9886\n",
            "Epoch 31/180\n",
            "99/99 [==============================] - 0s 2ms/step - loss: 0.4348 - wine_quality_loss: 0.4056 - wine_type_loss: 0.0292 - wine_quality_root_mean_squared_error: 0.6369 - wine_type_binary_accuracy: 0.9949 - val_loss: 0.5131 - val_wine_quality_loss: 0.4627 - val_wine_type_loss: 0.0504 - val_wine_quality_root_mean_squared_error: 0.6802 - val_wine_type_binary_accuracy: 0.9886\n",
            "Epoch 32/180\n",
            "99/99 [==============================] - 0s 3ms/step - loss: 0.4225 - wine_quality_loss: 0.3937 - wine_type_loss: 0.0288 - wine_quality_root_mean_squared_error: 0.6275 - wine_type_binary_accuracy: 0.9949 - val_loss: 0.5041 - val_wine_quality_loss: 0.4539 - val_wine_type_loss: 0.0503 - val_wine_quality_root_mean_squared_error: 0.6737 - val_wine_type_binary_accuracy: 0.9886\n",
            "Epoch 33/180\n",
            "99/99 [==============================] - 0s 2ms/step - loss: 0.4127 - wine_quality_loss: 0.3842 - wine_type_loss: 0.0284 - wine_quality_root_mean_squared_error: 0.6199 - wine_type_binary_accuracy: 0.9949 - val_loss: 0.5023 - val_wine_quality_loss: 0.4521 - val_wine_type_loss: 0.0502 - val_wine_quality_root_mean_squared_error: 0.6724 - val_wine_type_binary_accuracy: 0.9886\n",
            "Epoch 34/180\n",
            "99/99 [==============================] - 0s 2ms/step - loss: 0.4035 - wine_quality_loss: 0.3755 - wine_type_loss: 0.0280 - wine_quality_root_mean_squared_error: 0.6128 - wine_type_binary_accuracy: 0.9952 - val_loss: 0.4895 - val_wine_quality_loss: 0.4394 - val_wine_type_loss: 0.0500 - val_wine_quality_root_mean_squared_error: 0.6629 - val_wine_type_binary_accuracy: 0.9886\n",
            "Epoch 35/180\n",
            "99/99 [==============================] - 0s 3ms/step - loss: 0.3963 - wine_quality_loss: 0.3686 - wine_type_loss: 0.0277 - wine_quality_root_mean_squared_error: 0.6071 - wine_type_binary_accuracy: 0.9952 - val_loss: 0.4798 - val_wine_quality_loss: 0.4300 - val_wine_type_loss: 0.0498 - val_wine_quality_root_mean_squared_error: 0.6558 - val_wine_type_binary_accuracy: 0.9886\n",
            "Epoch 36/180\n",
            "99/99 [==============================] - 0s 3ms/step - loss: 0.3883 - wine_quality_loss: 0.3610 - wine_type_loss: 0.0273 - wine_quality_root_mean_squared_error: 0.6008 - wine_type_binary_accuracy: 0.9952 - val_loss: 0.4712 - val_wine_quality_loss: 0.4215 - val_wine_type_loss: 0.0497 - val_wine_quality_root_mean_squared_error: 0.6492 - val_wine_type_binary_accuracy: 0.9886\n",
            "Epoch 37/180\n",
            "99/99 [==============================] - 0s 2ms/step - loss: 0.3821 - wine_quality_loss: 0.3550 - wine_type_loss: 0.0271 - wine_quality_root_mean_squared_error: 0.5958 - wine_type_binary_accuracy: 0.9952 - val_loss: 0.4781 - val_wine_quality_loss: 0.4284 - val_wine_type_loss: 0.0497 - val_wine_quality_root_mean_squared_error: 0.6546 - val_wine_type_binary_accuracy: 0.9886\n",
            "Epoch 38/180\n",
            "99/99 [==============================] - 0s 2ms/step - loss: 0.3767 - wine_quality_loss: 0.3500 - wine_type_loss: 0.0267 - wine_quality_root_mean_squared_error: 0.5916 - wine_type_binary_accuracy: 0.9952 - val_loss: 0.4666 - val_wine_quality_loss: 0.4170 - val_wine_type_loss: 0.0495 - val_wine_quality_root_mean_squared_error: 0.6458 - val_wine_type_binary_accuracy: 0.9886\n",
            "Epoch 39/180\n",
            "99/99 [==============================] - 0s 3ms/step - loss: 0.3711 - wine_quality_loss: 0.3446 - wine_type_loss: 0.0265 - wine_quality_root_mean_squared_error: 0.5871 - wine_type_binary_accuracy: 0.9952 - val_loss: 0.4578 - val_wine_quality_loss: 0.4085 - val_wine_type_loss: 0.0492 - val_wine_quality_root_mean_squared_error: 0.6392 - val_wine_type_binary_accuracy: 0.9886\n",
            "Epoch 40/180\n",
            "99/99 [==============================] - 0s 3ms/step - loss: 0.3661 - wine_quality_loss: 0.3399 - wine_type_loss: 0.0262 - wine_quality_root_mean_squared_error: 0.5830 - wine_type_binary_accuracy: 0.9956 - val_loss: 0.4523 - val_wine_quality_loss: 0.4029 - val_wine_type_loss: 0.0494 - val_wine_quality_root_mean_squared_error: 0.6348 - val_wine_type_binary_accuracy: 0.9899\n",
            "Epoch 41/180\n",
            "99/99 [==============================] - 0s 3ms/step - loss: 0.3610 - wine_quality_loss: 0.3350 - wine_type_loss: 0.0260 - wine_quality_root_mean_squared_error: 0.5788 - wine_type_binary_accuracy: 0.9959 - val_loss: 0.4538 - val_wine_quality_loss: 0.4047 - val_wine_type_loss: 0.0492 - val_wine_quality_root_mean_squared_error: 0.6361 - val_wine_type_binary_accuracy: 0.9899\n",
            "Epoch 42/180\n",
            "99/99 [==============================] - 0s 3ms/step - loss: 0.3577 - wine_quality_loss: 0.3320 - wine_type_loss: 0.0257 - wine_quality_root_mean_squared_error: 0.5762 - wine_type_binary_accuracy: 0.9962 - val_loss: 0.4461 - val_wine_quality_loss: 0.3970 - val_wine_type_loss: 0.0491 - val_wine_quality_root_mean_squared_error: 0.6301 - val_wine_type_binary_accuracy: 0.9899\n",
            "Epoch 43/180\n",
            "99/99 [==============================] - 0s 3ms/step - loss: 0.3535 - wine_quality_loss: 0.3279 - wine_type_loss: 0.0255 - wine_quality_root_mean_squared_error: 0.5727 - wine_type_binary_accuracy: 0.9959 - val_loss: 0.4384 - val_wine_quality_loss: 0.3895 - val_wine_type_loss: 0.0489 - val_wine_quality_root_mean_squared_error: 0.6241 - val_wine_type_binary_accuracy: 0.9899\n",
            "Epoch 44/180\n",
            "99/99 [==============================] - 0s 2ms/step - loss: 0.3500 - wine_quality_loss: 0.3247 - wine_type_loss: 0.0253 - wine_quality_root_mean_squared_error: 0.5698 - wine_type_binary_accuracy: 0.9962 - val_loss: 0.4390 - val_wine_quality_loss: 0.3902 - val_wine_type_loss: 0.0488 - val_wine_quality_root_mean_squared_error: 0.6247 - val_wine_type_binary_accuracy: 0.9899\n",
            "Epoch 45/180\n",
            "99/99 [==============================] - 0s 3ms/step - loss: 0.3473 - wine_quality_loss: 0.3222 - wine_type_loss: 0.0250 - wine_quality_root_mean_squared_error: 0.5677 - wine_type_binary_accuracy: 0.9962 - val_loss: 0.4351 - val_wine_quality_loss: 0.3864 - val_wine_type_loss: 0.0487 - val_wine_quality_root_mean_squared_error: 0.6216 - val_wine_type_binary_accuracy: 0.9899\n",
            "Epoch 46/180\n",
            "99/99 [==============================] - 0s 3ms/step - loss: 0.3454 - wine_quality_loss: 0.3206 - wine_type_loss: 0.0248 - wine_quality_root_mean_squared_error: 0.5662 - wine_type_binary_accuracy: 0.9959 - val_loss: 0.4304 - val_wine_quality_loss: 0.3818 - val_wine_type_loss: 0.0486 - val_wine_quality_root_mean_squared_error: 0.6179 - val_wine_type_binary_accuracy: 0.9899\n",
            "Epoch 47/180\n",
            "99/99 [==============================] - 0s 3ms/step - loss: 0.3429 - wine_quality_loss: 0.3182 - wine_type_loss: 0.0246 - wine_quality_root_mean_squared_error: 0.5641 - wine_type_binary_accuracy: 0.9962 - val_loss: 0.4273 - val_wine_quality_loss: 0.3788 - val_wine_type_loss: 0.0485 - val_wine_quality_root_mean_squared_error: 0.6155 - val_wine_type_binary_accuracy: 0.9899\n",
            "Epoch 48/180\n",
            "99/99 [==============================] - 0s 3ms/step - loss: 0.3387 - wine_quality_loss: 0.3142 - wine_type_loss: 0.0245 - wine_quality_root_mean_squared_error: 0.5605 - wine_type_binary_accuracy: 0.9959 - val_loss: 0.4227 - val_wine_quality_loss: 0.3742 - val_wine_type_loss: 0.0485 - val_wine_quality_root_mean_squared_error: 0.6117 - val_wine_type_binary_accuracy: 0.9899\n",
            "Epoch 49/180\n",
            "99/99 [==============================] - 0s 3ms/step - loss: 0.3370 - wine_quality_loss: 0.3127 - wine_type_loss: 0.0243 - wine_quality_root_mean_squared_error: 0.5592 - wine_type_binary_accuracy: 0.9959 - val_loss: 0.4261 - val_wine_quality_loss: 0.3777 - val_wine_type_loss: 0.0484 - val_wine_quality_root_mean_squared_error: 0.6146 - val_wine_type_binary_accuracy: 0.9899\n",
            "Epoch 50/180\n",
            "99/99 [==============================] - 0s 2ms/step - loss: 0.3350 - wine_quality_loss: 0.3109 - wine_type_loss: 0.0241 - wine_quality_root_mean_squared_error: 0.5576 - wine_type_binary_accuracy: 0.9962 - val_loss: 0.4221 - val_wine_quality_loss: 0.3736 - val_wine_type_loss: 0.0484 - val_wine_quality_root_mean_squared_error: 0.6113 - val_wine_type_binary_accuracy: 0.9899\n",
            "Epoch 51/180\n",
            "99/99 [==============================] - 0s 3ms/step - loss: 0.3316 - wine_quality_loss: 0.3077 - wine_type_loss: 0.0240 - wine_quality_root_mean_squared_error: 0.5547 - wine_type_binary_accuracy: 0.9962 - val_loss: 0.4257 - val_wine_quality_loss: 0.3772 - val_wine_type_loss: 0.0485 - val_wine_quality_root_mean_squared_error: 0.6142 - val_wine_type_binary_accuracy: 0.9899\n",
            "Epoch 52/180\n",
            "99/99 [==============================] - 0s 3ms/step - loss: 0.3312 - wine_quality_loss: 0.3074 - wine_type_loss: 0.0238 - wine_quality_root_mean_squared_error: 0.5545 - wine_type_binary_accuracy: 0.9959 - val_loss: 0.4189 - val_wine_quality_loss: 0.3706 - val_wine_type_loss: 0.0483 - val_wine_quality_root_mean_squared_error: 0.6088 - val_wine_type_binary_accuracy: 0.9899\n",
            "Epoch 53/180\n",
            "99/99 [==============================] - 0s 3ms/step - loss: 0.3289 - wine_quality_loss: 0.3053 - wine_type_loss: 0.0236 - wine_quality_root_mean_squared_error: 0.5525 - wine_type_binary_accuracy: 0.9962 - val_loss: 0.4187 - val_wine_quality_loss: 0.3707 - val_wine_type_loss: 0.0480 - val_wine_quality_root_mean_squared_error: 0.6088 - val_wine_type_binary_accuracy: 0.9899\n",
            "Epoch 54/180\n",
            "99/99 [==============================] - 0s 2ms/step - loss: 0.3281 - wine_quality_loss: 0.3047 - wine_type_loss: 0.0235 - wine_quality_root_mean_squared_error: 0.5520 - wine_type_binary_accuracy: 0.9962 - val_loss: 0.4199 - val_wine_quality_loss: 0.3719 - val_wine_type_loss: 0.0481 - val_wine_quality_root_mean_squared_error: 0.6098 - val_wine_type_binary_accuracy: 0.9899\n",
            "Epoch 55/180\n",
            "99/99 [==============================] - 0s 3ms/step - loss: 0.3270 - wine_quality_loss: 0.3038 - wine_type_loss: 0.0233 - wine_quality_root_mean_squared_error: 0.5512 - wine_type_binary_accuracy: 0.9962 - val_loss: 0.4249 - val_wine_quality_loss: 0.3768 - val_wine_type_loss: 0.0481 - val_wine_quality_root_mean_squared_error: 0.6138 - val_wine_type_binary_accuracy: 0.9899\n",
            "Epoch 56/180\n",
            "99/99 [==============================] - 0s 3ms/step - loss: 0.3245 - wine_quality_loss: 0.3013 - wine_type_loss: 0.0231 - wine_quality_root_mean_squared_error: 0.5489 - wine_type_binary_accuracy: 0.9962 - val_loss: 0.4166 - val_wine_quality_loss: 0.3686 - val_wine_type_loss: 0.0480 - val_wine_quality_root_mean_squared_error: 0.6071 - val_wine_type_binary_accuracy: 0.9899\n",
            "Epoch 57/180\n",
            "99/99 [==============================] - 0s 3ms/step - loss: 0.3226 - wine_quality_loss: 0.2996 - wine_type_loss: 0.0230 - wine_quality_root_mean_squared_error: 0.5474 - wine_type_binary_accuracy: 0.9965 - val_loss: 0.4217 - val_wine_quality_loss: 0.3737 - val_wine_type_loss: 0.0480 - val_wine_quality_root_mean_squared_error: 0.6113 - val_wine_type_binary_accuracy: 0.9899\n",
            "Epoch 58/180\n",
            "99/99 [==============================] - 0s 3ms/step - loss: 0.3218 - wine_quality_loss: 0.2990 - wine_type_loss: 0.0229 - wine_quality_root_mean_squared_error: 0.5468 - wine_type_binary_accuracy: 0.9962 - val_loss: 0.4211 - val_wine_quality_loss: 0.3731 - val_wine_type_loss: 0.0480 - val_wine_quality_root_mean_squared_error: 0.6108 - val_wine_type_binary_accuracy: 0.9899\n",
            "Epoch 59/180\n",
            "99/99 [==============================] - 0s 3ms/step - loss: 0.3212 - wine_quality_loss: 0.2985 - wine_type_loss: 0.0227 - wine_quality_root_mean_squared_error: 0.5463 - wine_type_binary_accuracy: 0.9965 - val_loss: 0.4154 - val_wine_quality_loss: 0.3676 - val_wine_type_loss: 0.0478 - val_wine_quality_root_mean_squared_error: 0.6063 - val_wine_type_binary_accuracy: 0.9899\n",
            "Epoch 60/180\n",
            "99/99 [==============================] - 0s 2ms/step - loss: 0.3202 - wine_quality_loss: 0.2976 - wine_type_loss: 0.0226 - wine_quality_root_mean_squared_error: 0.5455 - wine_type_binary_accuracy: 0.9965 - val_loss: 0.4061 - val_wine_quality_loss: 0.3583 - val_wine_type_loss: 0.0478 - val_wine_quality_root_mean_squared_error: 0.5985 - val_wine_type_binary_accuracy: 0.9899\n",
            "Epoch 61/180\n",
            "99/99 [==============================] - 0s 3ms/step - loss: 0.3182 - wine_quality_loss: 0.2956 - wine_type_loss: 0.0225 - wine_quality_root_mean_squared_error: 0.5437 - wine_type_binary_accuracy: 0.9962 - val_loss: 0.4140 - val_wine_quality_loss: 0.3663 - val_wine_type_loss: 0.0477 - val_wine_quality_root_mean_squared_error: 0.6052 - val_wine_type_binary_accuracy: 0.9899\n",
            "Epoch 62/180\n",
            "99/99 [==============================] - 0s 3ms/step - loss: 0.3177 - wine_quality_loss: 0.2954 - wine_type_loss: 0.0223 - wine_quality_root_mean_squared_error: 0.5435 - wine_type_binary_accuracy: 0.9965 - val_loss: 0.4085 - val_wine_quality_loss: 0.3607 - val_wine_type_loss: 0.0477 - val_wine_quality_root_mean_squared_error: 0.6006 - val_wine_type_binary_accuracy: 0.9899\n",
            "Epoch 63/180\n",
            "99/99 [==============================] - 0s 3ms/step - loss: 0.3159 - wine_quality_loss: 0.2937 - wine_type_loss: 0.0222 - wine_quality_root_mean_squared_error: 0.5419 - wine_type_binary_accuracy: 0.9965 - val_loss: 0.4057 - val_wine_quality_loss: 0.3581 - val_wine_type_loss: 0.0476 - val_wine_quality_root_mean_squared_error: 0.5984 - val_wine_type_binary_accuracy: 0.9899\n",
            "Epoch 64/180\n",
            "99/99 [==============================] - 0s 3ms/step - loss: 0.3148 - wine_quality_loss: 0.2926 - wine_type_loss: 0.0221 - wine_quality_root_mean_squared_error: 0.5410 - wine_type_binary_accuracy: 0.9965 - val_loss: 0.4140 - val_wine_quality_loss: 0.3664 - val_wine_type_loss: 0.0476 - val_wine_quality_root_mean_squared_error: 0.6053 - val_wine_type_binary_accuracy: 0.9899\n",
            "Epoch 65/180\n",
            "99/99 [==============================] - 0s 3ms/step - loss: 0.3144 - wine_quality_loss: 0.2924 - wine_type_loss: 0.0220 - wine_quality_root_mean_squared_error: 0.5408 - wine_type_binary_accuracy: 0.9965 - val_loss: 0.4064 - val_wine_quality_loss: 0.3590 - val_wine_type_loss: 0.0475 - val_wine_quality_root_mean_squared_error: 0.5991 - val_wine_type_binary_accuracy: 0.9899\n",
            "Epoch 66/180\n",
            "99/99 [==============================] - 0s 4ms/step - loss: 0.3121 - wine_quality_loss: 0.2903 - wine_type_loss: 0.0218 - wine_quality_root_mean_squared_error: 0.5388 - wine_type_binary_accuracy: 0.9965 - val_loss: 0.4053 - val_wine_quality_loss: 0.3577 - val_wine_type_loss: 0.0476 - val_wine_quality_root_mean_squared_error: 0.5981 - val_wine_type_binary_accuracy: 0.9899\n",
            "Epoch 67/180\n",
            "99/99 [==============================] - 0s 3ms/step - loss: 0.3119 - wine_quality_loss: 0.2902 - wine_type_loss: 0.0217 - wine_quality_root_mean_squared_error: 0.5387 - wine_type_binary_accuracy: 0.9965 - val_loss: 0.4083 - val_wine_quality_loss: 0.3606 - val_wine_type_loss: 0.0477 - val_wine_quality_root_mean_squared_error: 0.6005 - val_wine_type_binary_accuracy: 0.9899\n",
            "Epoch 68/180\n",
            "99/99 [==============================] - 0s 3ms/step - loss: 0.3116 - wine_quality_loss: 0.2900 - wine_type_loss: 0.0216 - wine_quality_root_mean_squared_error: 0.5385 - wine_type_binary_accuracy: 0.9965 - val_loss: 0.4209 - val_wine_quality_loss: 0.3736 - val_wine_type_loss: 0.0474 - val_wine_quality_root_mean_squared_error: 0.6112 - val_wine_type_binary_accuracy: 0.9899\n",
            "Epoch 69/180\n",
            "99/99 [==============================] - 0s 3ms/step - loss: 0.3094 - wine_quality_loss: 0.2879 - wine_type_loss: 0.0215 - wine_quality_root_mean_squared_error: 0.5365 - wine_type_binary_accuracy: 0.9965 - val_loss: 0.4170 - val_wine_quality_loss: 0.3696 - val_wine_type_loss: 0.0474 - val_wine_quality_root_mean_squared_error: 0.6080 - val_wine_type_binary_accuracy: 0.9899\n",
            "Epoch 70/180\n",
            "99/99 [==============================] - 0s 3ms/step - loss: 0.3106 - wine_quality_loss: 0.2892 - wine_type_loss: 0.0214 - wine_quality_root_mean_squared_error: 0.5378 - wine_type_binary_accuracy: 0.9965 - val_loss: 0.4045 - val_wine_quality_loss: 0.3570 - val_wine_type_loss: 0.0475 - val_wine_quality_root_mean_squared_error: 0.5975 - val_wine_type_binary_accuracy: 0.9899\n",
            "Epoch 71/180\n",
            "99/99 [==============================] - 0s 3ms/step - loss: 0.3076 - wine_quality_loss: 0.2862 - wine_type_loss: 0.0213 - wine_quality_root_mean_squared_error: 0.5350 - wine_type_binary_accuracy: 0.9965 - val_loss: 0.4069 - val_wine_quality_loss: 0.3594 - val_wine_type_loss: 0.0475 - val_wine_quality_root_mean_squared_error: 0.5995 - val_wine_type_binary_accuracy: 0.9899\n",
            "Epoch 72/180\n",
            "99/99 [==============================] - 0s 3ms/step - loss: 0.3061 - wine_quality_loss: 0.2849 - wine_type_loss: 0.0212 - wine_quality_root_mean_squared_error: 0.5337 - wine_type_binary_accuracy: 0.9965 - val_loss: 0.4112 - val_wine_quality_loss: 0.3638 - val_wine_type_loss: 0.0474 - val_wine_quality_root_mean_squared_error: 0.6031 - val_wine_type_binary_accuracy: 0.9899\n",
            "Epoch 73/180\n",
            "99/99 [==============================] - 0s 3ms/step - loss: 0.3076 - wine_quality_loss: 0.2865 - wine_type_loss: 0.0211 - wine_quality_root_mean_squared_error: 0.5353 - wine_type_binary_accuracy: 0.9965 - val_loss: 0.4086 - val_wine_quality_loss: 0.3613 - val_wine_type_loss: 0.0473 - val_wine_quality_root_mean_squared_error: 0.6011 - val_wine_type_binary_accuracy: 0.9899\n",
            "Epoch 74/180\n",
            "99/99 [==============================] - 0s 3ms/step - loss: 0.3063 - wine_quality_loss: 0.2853 - wine_type_loss: 0.0210 - wine_quality_root_mean_squared_error: 0.5341 - wine_type_binary_accuracy: 0.9965 - val_loss: 0.4053 - val_wine_quality_loss: 0.3582 - val_wine_type_loss: 0.0472 - val_wine_quality_root_mean_squared_error: 0.5985 - val_wine_type_binary_accuracy: 0.9899\n",
            "Epoch 75/180\n",
            "99/99 [==============================] - 0s 3ms/step - loss: 0.3060 - wine_quality_loss: 0.2851 - wine_type_loss: 0.0209 - wine_quality_root_mean_squared_error: 0.5339 - wine_type_binary_accuracy: 0.9965 - val_loss: 0.4031 - val_wine_quality_loss: 0.3559 - val_wine_type_loss: 0.0472 - val_wine_quality_root_mean_squared_error: 0.5966 - val_wine_type_binary_accuracy: 0.9899\n",
            "Epoch 76/180\n",
            "99/99 [==============================] - 0s 2ms/step - loss: 0.3050 - wine_quality_loss: 0.2841 - wine_type_loss: 0.0209 - wine_quality_root_mean_squared_error: 0.5330 - wine_type_binary_accuracy: 0.9965 - val_loss: 0.4022 - val_wine_quality_loss: 0.3551 - val_wine_type_loss: 0.0471 - val_wine_quality_root_mean_squared_error: 0.5959 - val_wine_type_binary_accuracy: 0.9899\n",
            "Epoch 77/180\n",
            "99/99 [==============================] - 0s 3ms/step - loss: 0.3044 - wine_quality_loss: 0.2837 - wine_type_loss: 0.0208 - wine_quality_root_mean_squared_error: 0.5326 - wine_type_binary_accuracy: 0.9965 - val_loss: 0.3995 - val_wine_quality_loss: 0.3523 - val_wine_type_loss: 0.0472 - val_wine_quality_root_mean_squared_error: 0.5935 - val_wine_type_binary_accuracy: 0.9899\n",
            "Epoch 78/180\n",
            "99/99 [==============================] - 0s 2ms/step - loss: 0.3026 - wine_quality_loss: 0.2820 - wine_type_loss: 0.0207 - wine_quality_root_mean_squared_error: 0.5310 - wine_type_binary_accuracy: 0.9965 - val_loss: 0.4052 - val_wine_quality_loss: 0.3579 - val_wine_type_loss: 0.0472 - val_wine_quality_root_mean_squared_error: 0.5983 - val_wine_type_binary_accuracy: 0.9899\n",
            "Epoch 79/180\n",
            "99/99 [==============================] - 0s 3ms/step - loss: 0.3031 - wine_quality_loss: 0.2825 - wine_type_loss: 0.0205 - wine_quality_root_mean_squared_error: 0.5315 - wine_type_binary_accuracy: 0.9968 - val_loss: 0.4028 - val_wine_quality_loss: 0.3557 - val_wine_type_loss: 0.0471 - val_wine_quality_root_mean_squared_error: 0.5964 - val_wine_type_binary_accuracy: 0.9899\n",
            "Epoch 80/180\n",
            "99/99 [==============================] - 0s 3ms/step - loss: 0.3016 - wine_quality_loss: 0.2811 - wine_type_loss: 0.0205 - wine_quality_root_mean_squared_error: 0.5301 - wine_type_binary_accuracy: 0.9965 - val_loss: 0.3995 - val_wine_quality_loss: 0.3526 - val_wine_type_loss: 0.0469 - val_wine_quality_root_mean_squared_error: 0.5938 - val_wine_type_binary_accuracy: 0.9899\n",
            "Epoch 81/180\n",
            "99/99 [==============================] - 0s 3ms/step - loss: 0.3010 - wine_quality_loss: 0.2807 - wine_type_loss: 0.0204 - wine_quality_root_mean_squared_error: 0.5298 - wine_type_binary_accuracy: 0.9965 - val_loss: 0.4027 - val_wine_quality_loss: 0.3557 - val_wine_type_loss: 0.0470 - val_wine_quality_root_mean_squared_error: 0.5964 - val_wine_type_binary_accuracy: 0.9899\n",
            "Epoch 82/180\n",
            "99/99 [==============================] - 0s 3ms/step - loss: 0.2995 - wine_quality_loss: 0.2792 - wine_type_loss: 0.0203 - wine_quality_root_mean_squared_error: 0.5284 - wine_type_binary_accuracy: 0.9965 - val_loss: 0.4029 - val_wine_quality_loss: 0.3559 - val_wine_type_loss: 0.0470 - val_wine_quality_root_mean_squared_error: 0.5965 - val_wine_type_binary_accuracy: 0.9899\n",
            "Epoch 83/180\n",
            "99/99 [==============================] - 0s 2ms/step - loss: 0.2991 - wine_quality_loss: 0.2789 - wine_type_loss: 0.0202 - wine_quality_root_mean_squared_error: 0.5281 - wine_type_binary_accuracy: 0.9968 - val_loss: 0.3977 - val_wine_quality_loss: 0.3506 - val_wine_type_loss: 0.0470 - val_wine_quality_root_mean_squared_error: 0.5921 - val_wine_type_binary_accuracy: 0.9899\n",
            "Epoch 84/180\n",
            "99/99 [==============================] - 0s 3ms/step - loss: 0.2981 - wine_quality_loss: 0.2779 - wine_type_loss: 0.0202 - wine_quality_root_mean_squared_error: 0.5272 - wine_type_binary_accuracy: 0.9968 - val_loss: 0.4021 - val_wine_quality_loss: 0.3552 - val_wine_type_loss: 0.0469 - val_wine_quality_root_mean_squared_error: 0.5960 - val_wine_type_binary_accuracy: 0.9899\n",
            "Epoch 85/180\n",
            "99/99 [==============================] - 0s 2ms/step - loss: 0.2977 - wine_quality_loss: 0.2777 - wine_type_loss: 0.0200 - wine_quality_root_mean_squared_error: 0.5269 - wine_type_binary_accuracy: 0.9968 - val_loss: 0.4023 - val_wine_quality_loss: 0.3551 - val_wine_type_loss: 0.0471 - val_wine_quality_root_mean_squared_error: 0.5959 - val_wine_type_binary_accuracy: 0.9899\n",
            "Epoch 86/180\n",
            "99/99 [==============================] - 0s 3ms/step - loss: 0.2977 - wine_quality_loss: 0.2777 - wine_type_loss: 0.0200 - wine_quality_root_mean_squared_error: 0.5269 - wine_type_binary_accuracy: 0.9968 - val_loss: 0.4008 - val_wine_quality_loss: 0.3538 - val_wine_type_loss: 0.0470 - val_wine_quality_root_mean_squared_error: 0.5948 - val_wine_type_binary_accuracy: 0.9899\n",
            "Epoch 87/180\n",
            "99/99 [==============================] - 0s 3ms/step - loss: 0.2970 - wine_quality_loss: 0.2771 - wine_type_loss: 0.0199 - wine_quality_root_mean_squared_error: 0.5264 - wine_type_binary_accuracy: 0.9968 - val_loss: 0.3965 - val_wine_quality_loss: 0.3497 - val_wine_type_loss: 0.0468 - val_wine_quality_root_mean_squared_error: 0.5913 - val_wine_type_binary_accuracy: 0.9899\n",
            "Epoch 88/180\n",
            "99/99 [==============================] - 0s 3ms/step - loss: 0.2959 - wine_quality_loss: 0.2761 - wine_type_loss: 0.0198 - wine_quality_root_mean_squared_error: 0.5255 - wine_type_binary_accuracy: 0.9968 - val_loss: 0.4032 - val_wine_quality_loss: 0.3564 - val_wine_type_loss: 0.0468 - val_wine_quality_root_mean_squared_error: 0.5970 - val_wine_type_binary_accuracy: 0.9899\n",
            "Epoch 89/180\n",
            "99/99 [==============================] - 0s 3ms/step - loss: 0.2944 - wine_quality_loss: 0.2746 - wine_type_loss: 0.0197 - wine_quality_root_mean_squared_error: 0.5240 - wine_type_binary_accuracy: 0.9968 - val_loss: 0.4149 - val_wine_quality_loss: 0.3682 - val_wine_type_loss: 0.0467 - val_wine_quality_root_mean_squared_error: 0.6068 - val_wine_type_binary_accuracy: 0.9899\n",
            "Epoch 90/180\n",
            "99/99 [==============================] - 0s 3ms/step - loss: 0.2942 - wine_quality_loss: 0.2746 - wine_type_loss: 0.0196 - wine_quality_root_mean_squared_error: 0.5240 - wine_type_binary_accuracy: 0.9968 - val_loss: 0.3966 - val_wine_quality_loss: 0.3497 - val_wine_type_loss: 0.0469 - val_wine_quality_root_mean_squared_error: 0.5914 - val_wine_type_binary_accuracy: 0.9899\n",
            "Epoch 91/180\n",
            "99/99 [==============================] - 0s 2ms/step - loss: 0.2942 - wine_quality_loss: 0.2745 - wine_type_loss: 0.0197 - wine_quality_root_mean_squared_error: 0.5239 - wine_type_binary_accuracy: 0.9968 - val_loss: 0.3947 - val_wine_quality_loss: 0.3477 - val_wine_type_loss: 0.0469 - val_wine_quality_root_mean_squared_error: 0.5897 - val_wine_type_binary_accuracy: 0.9899\n",
            "Epoch 92/180\n",
            "99/99 [==============================] - 0s 3ms/step - loss: 0.2937 - wine_quality_loss: 0.2742 - wine_type_loss: 0.0195 - wine_quality_root_mean_squared_error: 0.5236 - wine_type_binary_accuracy: 0.9968 - val_loss: 0.3973 - val_wine_quality_loss: 0.3506 - val_wine_type_loss: 0.0467 - val_wine_quality_root_mean_squared_error: 0.5921 - val_wine_type_binary_accuracy: 0.9899\n",
            "Epoch 93/180\n",
            "99/99 [==============================] - 0s 3ms/step - loss: 0.2924 - wine_quality_loss: 0.2730 - wine_type_loss: 0.0194 - wine_quality_root_mean_squared_error: 0.5225 - wine_type_binary_accuracy: 0.9965 - val_loss: 0.3973 - val_wine_quality_loss: 0.3505 - val_wine_type_loss: 0.0468 - val_wine_quality_root_mean_squared_error: 0.5920 - val_wine_type_binary_accuracy: 0.9899\n",
            "Epoch 94/180\n",
            "99/99 [==============================] - 0s 3ms/step - loss: 0.2926 - wine_quality_loss: 0.2732 - wine_type_loss: 0.0194 - wine_quality_root_mean_squared_error: 0.5227 - wine_type_binary_accuracy: 0.9968 - val_loss: 0.3941 - val_wine_quality_loss: 0.3475 - val_wine_type_loss: 0.0466 - val_wine_quality_root_mean_squared_error: 0.5895 - val_wine_type_binary_accuracy: 0.9899\n",
            "Epoch 95/180\n",
            "99/99 [==============================] - 0s 3ms/step - loss: 0.2910 - wine_quality_loss: 0.2716 - wine_type_loss: 0.0193 - wine_quality_root_mean_squared_error: 0.5212 - wine_type_binary_accuracy: 0.9968 - val_loss: 0.4018 - val_wine_quality_loss: 0.3553 - val_wine_type_loss: 0.0465 - val_wine_quality_root_mean_squared_error: 0.5960 - val_wine_type_binary_accuracy: 0.9899\n",
            "Epoch 96/180\n",
            "99/99 [==============================] - 0s 3ms/step - loss: 0.2907 - wine_quality_loss: 0.2715 - wine_type_loss: 0.0192 - wine_quality_root_mean_squared_error: 0.5211 - wine_type_binary_accuracy: 0.9968 - val_loss: 0.3972 - val_wine_quality_loss: 0.3506 - val_wine_type_loss: 0.0466 - val_wine_quality_root_mean_squared_error: 0.5921 - val_wine_type_binary_accuracy: 0.9899\n",
            "Epoch 97/180\n",
            "99/99 [==============================] - 0s 3ms/step - loss: 0.2903 - wine_quality_loss: 0.2712 - wine_type_loss: 0.0191 - wine_quality_root_mean_squared_error: 0.5208 - wine_type_binary_accuracy: 0.9968 - val_loss: 0.4045 - val_wine_quality_loss: 0.3580 - val_wine_type_loss: 0.0465 - val_wine_quality_root_mean_squared_error: 0.5983 - val_wine_type_binary_accuracy: 0.9899\n",
            "Epoch 98/180\n",
            "99/99 [==============================] - 0s 3ms/step - loss: 0.2896 - wine_quality_loss: 0.2706 - wine_type_loss: 0.0191 - wine_quality_root_mean_squared_error: 0.5202 - wine_type_binary_accuracy: 0.9968 - val_loss: 0.4018 - val_wine_quality_loss: 0.3554 - val_wine_type_loss: 0.0465 - val_wine_quality_root_mean_squared_error: 0.5961 - val_wine_type_binary_accuracy: 0.9899\n",
            "Epoch 99/180\n",
            "99/99 [==============================] - 0s 2ms/step - loss: 0.2907 - wine_quality_loss: 0.2717 - wine_type_loss: 0.0190 - wine_quality_root_mean_squared_error: 0.5213 - wine_type_binary_accuracy: 0.9968 - val_loss: 0.3951 - val_wine_quality_loss: 0.3486 - val_wine_type_loss: 0.0465 - val_wine_quality_root_mean_squared_error: 0.5904 - val_wine_type_binary_accuracy: 0.9899\n",
            "Epoch 100/180\n",
            "99/99 [==============================] - 0s 3ms/step - loss: 0.2891 - wine_quality_loss: 0.2702 - wine_type_loss: 0.0189 - wine_quality_root_mean_squared_error: 0.5198 - wine_type_binary_accuracy: 0.9968 - val_loss: 0.3984 - val_wine_quality_loss: 0.3518 - val_wine_type_loss: 0.0465 - val_wine_quality_root_mean_squared_error: 0.5932 - val_wine_type_binary_accuracy: 0.9899\n",
            "Epoch 101/180\n",
            "99/99 [==============================] - 0s 3ms/step - loss: 0.2887 - wine_quality_loss: 0.2699 - wine_type_loss: 0.0189 - wine_quality_root_mean_squared_error: 0.5195 - wine_type_binary_accuracy: 0.9968 - val_loss: 0.4007 - val_wine_quality_loss: 0.3543 - val_wine_type_loss: 0.0463 - val_wine_quality_root_mean_squared_error: 0.5953 - val_wine_type_binary_accuracy: 0.9899\n",
            "Epoch 102/180\n",
            "99/99 [==============================] - 0s 3ms/step - loss: 0.2868 - wine_quality_loss: 0.2681 - wine_type_loss: 0.0188 - wine_quality_root_mean_squared_error: 0.5178 - wine_type_binary_accuracy: 0.9968 - val_loss: 0.4159 - val_wine_quality_loss: 0.3693 - val_wine_type_loss: 0.0466 - val_wine_quality_root_mean_squared_error: 0.6077 - val_wine_type_binary_accuracy: 0.9899\n",
            "Epoch 103/180\n",
            "99/99 [==============================] - 0s 3ms/step - loss: 0.2867 - wine_quality_loss: 0.2680 - wine_type_loss: 0.0187 - wine_quality_root_mean_squared_error: 0.5177 - wine_type_binary_accuracy: 0.9968 - val_loss: 0.3949 - val_wine_quality_loss: 0.3486 - val_wine_type_loss: 0.0463 - val_wine_quality_root_mean_squared_error: 0.5904 - val_wine_type_binary_accuracy: 0.9899\n",
            "Epoch 104/180\n",
            "99/99 [==============================] - 0s 3ms/step - loss: 0.2869 - wine_quality_loss: 0.2683 - wine_type_loss: 0.0186 - wine_quality_root_mean_squared_error: 0.5180 - wine_type_binary_accuracy: 0.9968 - val_loss: 0.4055 - val_wine_quality_loss: 0.3591 - val_wine_type_loss: 0.0464 - val_wine_quality_root_mean_squared_error: 0.5992 - val_wine_type_binary_accuracy: 0.9899\n",
            "Epoch 105/180\n",
            "99/99 [==============================] - 0s 2ms/step - loss: 0.2848 - wine_quality_loss: 0.2663 - wine_type_loss: 0.0185 - wine_quality_root_mean_squared_error: 0.5160 - wine_type_binary_accuracy: 0.9968 - val_loss: 0.4004 - val_wine_quality_loss: 0.3541 - val_wine_type_loss: 0.0464 - val_wine_quality_root_mean_squared_error: 0.5950 - val_wine_type_binary_accuracy: 0.9899\n",
            "Epoch 106/180\n",
            "99/99 [==============================] - 0s 3ms/step - loss: 0.2848 - wine_quality_loss: 0.2662 - wine_type_loss: 0.0186 - wine_quality_root_mean_squared_error: 0.5159 - wine_type_binary_accuracy: 0.9968 - val_loss: 0.3967 - val_wine_quality_loss: 0.3503 - val_wine_type_loss: 0.0463 - val_wine_quality_root_mean_squared_error: 0.5919 - val_wine_type_binary_accuracy: 0.9899\n",
            "Epoch 107/180\n",
            "99/99 [==============================] - 0s 3ms/step - loss: 0.2840 - wine_quality_loss: 0.2655 - wine_type_loss: 0.0184 - wine_quality_root_mean_squared_error: 0.5153 - wine_type_binary_accuracy: 0.9968 - val_loss: 0.4129 - val_wine_quality_loss: 0.3666 - val_wine_type_loss: 0.0463 - val_wine_quality_root_mean_squared_error: 0.6055 - val_wine_type_binary_accuracy: 0.9899\n",
            "Epoch 108/180\n",
            "99/99 [==============================] - 0s 3ms/step - loss: 0.2838 - wine_quality_loss: 0.2655 - wine_type_loss: 0.0184 - wine_quality_root_mean_squared_error: 0.5152 - wine_type_binary_accuracy: 0.9968 - val_loss: 0.3967 - val_wine_quality_loss: 0.3504 - val_wine_type_loss: 0.0462 - val_wine_quality_root_mean_squared_error: 0.5920 - val_wine_type_binary_accuracy: 0.9899\n",
            "Epoch 109/180\n",
            "99/99 [==============================] - 0s 3ms/step - loss: 0.2828 - wine_quality_loss: 0.2644 - wine_type_loss: 0.0183 - wine_quality_root_mean_squared_error: 0.5142 - wine_type_binary_accuracy: 0.9968 - val_loss: 0.3969 - val_wine_quality_loss: 0.3506 - val_wine_type_loss: 0.0463 - val_wine_quality_root_mean_squared_error: 0.5921 - val_wine_type_binary_accuracy: 0.9899\n",
            "Epoch 110/180\n",
            "99/99 [==============================] - 0s 3ms/step - loss: 0.2834 - wine_quality_loss: 0.2652 - wine_type_loss: 0.0182 - wine_quality_root_mean_squared_error: 0.5150 - wine_type_binary_accuracy: 0.9968 - val_loss: 0.3963 - val_wine_quality_loss: 0.3502 - val_wine_type_loss: 0.0461 - val_wine_quality_root_mean_squared_error: 0.5918 - val_wine_type_binary_accuracy: 0.9899\n",
            "Epoch 111/180\n",
            "99/99 [==============================] - 0s 3ms/step - loss: 0.2830 - wine_quality_loss: 0.2648 - wine_type_loss: 0.0182 - wine_quality_root_mean_squared_error: 0.5146 - wine_type_binary_accuracy: 0.9968 - val_loss: 0.3969 - val_wine_quality_loss: 0.3509 - val_wine_type_loss: 0.0460 - val_wine_quality_root_mean_squared_error: 0.5924 - val_wine_type_binary_accuracy: 0.9899\n",
            "Epoch 112/180\n",
            "99/99 [==============================] - 0s 3ms/step - loss: 0.2824 - wine_quality_loss: 0.2643 - wine_type_loss: 0.0181 - wine_quality_root_mean_squared_error: 0.5141 - wine_type_binary_accuracy: 0.9968 - val_loss: 0.3938 - val_wine_quality_loss: 0.3479 - val_wine_type_loss: 0.0459 - val_wine_quality_root_mean_squared_error: 0.5898 - val_wine_type_binary_accuracy: 0.9899\n",
            "Epoch 113/180\n",
            "99/99 [==============================] - 0s 3ms/step - loss: 0.2818 - wine_quality_loss: 0.2638 - wine_type_loss: 0.0180 - wine_quality_root_mean_squared_error: 0.5136 - wine_type_binary_accuracy: 0.9968 - val_loss: 0.3979 - val_wine_quality_loss: 0.3518 - val_wine_type_loss: 0.0462 - val_wine_quality_root_mean_squared_error: 0.5931 - val_wine_type_binary_accuracy: 0.9899\n",
            "Epoch 114/180\n",
            "99/99 [==============================] - 0s 3ms/step - loss: 0.2808 - wine_quality_loss: 0.2628 - wine_type_loss: 0.0180 - wine_quality_root_mean_squared_error: 0.5126 - wine_type_binary_accuracy: 0.9968 - val_loss: 0.3946 - val_wine_quality_loss: 0.3485 - val_wine_type_loss: 0.0461 - val_wine_quality_root_mean_squared_error: 0.5904 - val_wine_type_binary_accuracy: 0.9899\n",
            "Epoch 115/180\n",
            "99/99 [==============================] - 0s 3ms/step - loss: 0.2799 - wine_quality_loss: 0.2620 - wine_type_loss: 0.0180 - wine_quality_root_mean_squared_error: 0.5118 - wine_type_binary_accuracy: 0.9971 - val_loss: 0.3984 - val_wine_quality_loss: 0.3526 - val_wine_type_loss: 0.0459 - val_wine_quality_root_mean_squared_error: 0.5938 - val_wine_type_binary_accuracy: 0.9899\n",
            "Epoch 116/180\n",
            "99/99 [==============================] - 0s 3ms/step - loss: 0.2800 - wine_quality_loss: 0.2622 - wine_type_loss: 0.0178 - wine_quality_root_mean_squared_error: 0.5120 - wine_type_binary_accuracy: 0.9968 - val_loss: 0.3966 - val_wine_quality_loss: 0.3506 - val_wine_type_loss: 0.0460 - val_wine_quality_root_mean_squared_error: 0.5921 - val_wine_type_binary_accuracy: 0.9899\n",
            "Epoch 117/180\n",
            "99/99 [==============================] - 0s 3ms/step - loss: 0.2791 - wine_quality_loss: 0.2613 - wine_type_loss: 0.0178 - wine_quality_root_mean_squared_error: 0.5112 - wine_type_binary_accuracy: 0.9971 - val_loss: 0.3927 - val_wine_quality_loss: 0.3468 - val_wine_type_loss: 0.0459 - val_wine_quality_root_mean_squared_error: 0.5889 - val_wine_type_binary_accuracy: 0.9899\n",
            "Epoch 118/180\n",
            "99/99 [==============================] - 0s 3ms/step - loss: 0.2787 - wine_quality_loss: 0.2609 - wine_type_loss: 0.0177 - wine_quality_root_mean_squared_error: 0.5108 - wine_type_binary_accuracy: 0.9971 - val_loss: 0.3982 - val_wine_quality_loss: 0.3523 - val_wine_type_loss: 0.0459 - val_wine_quality_root_mean_squared_error: 0.5935 - val_wine_type_binary_accuracy: 0.9899\n",
            "Epoch 119/180\n",
            "99/99 [==============================] - 0s 3ms/step - loss: 0.2783 - wine_quality_loss: 0.2607 - wine_type_loss: 0.0176 - wine_quality_root_mean_squared_error: 0.5106 - wine_type_binary_accuracy: 0.9968 - val_loss: 0.3961 - val_wine_quality_loss: 0.3502 - val_wine_type_loss: 0.0459 - val_wine_quality_root_mean_squared_error: 0.5918 - val_wine_type_binary_accuracy: 0.9899\n",
            "Epoch 120/180\n",
            "99/99 [==============================] - 0s 3ms/step - loss: 0.2774 - wine_quality_loss: 0.2597 - wine_type_loss: 0.0176 - wine_quality_root_mean_squared_error: 0.5096 - wine_type_binary_accuracy: 0.9971 - val_loss: 0.3991 - val_wine_quality_loss: 0.3533 - val_wine_type_loss: 0.0458 - val_wine_quality_root_mean_squared_error: 0.5944 - val_wine_type_binary_accuracy: 0.9899\n",
            "Epoch 121/180\n",
            "99/99 [==============================] - 0s 3ms/step - loss: 0.2768 - wine_quality_loss: 0.2593 - wine_type_loss: 0.0175 - wine_quality_root_mean_squared_error: 0.5092 - wine_type_binary_accuracy: 0.9971 - val_loss: 0.3989 - val_wine_quality_loss: 0.3530 - val_wine_type_loss: 0.0460 - val_wine_quality_root_mean_squared_error: 0.5941 - val_wine_type_binary_accuracy: 0.9899\n",
            "Epoch 122/180\n",
            "99/99 [==============================] - 0s 3ms/step - loss: 0.2771 - wine_quality_loss: 0.2596 - wine_type_loss: 0.0175 - wine_quality_root_mean_squared_error: 0.5095 - wine_type_binary_accuracy: 0.9971 - val_loss: 0.3971 - val_wine_quality_loss: 0.3511 - val_wine_type_loss: 0.0461 - val_wine_quality_root_mean_squared_error: 0.5925 - val_wine_type_binary_accuracy: 0.9899\n",
            "Epoch 123/180\n",
            "99/99 [==============================] - 0s 3ms/step - loss: 0.2757 - wine_quality_loss: 0.2583 - wine_type_loss: 0.0174 - wine_quality_root_mean_squared_error: 0.5082 - wine_type_binary_accuracy: 0.9971 - val_loss: 0.4080 - val_wine_quality_loss: 0.3620 - val_wine_type_loss: 0.0460 - val_wine_quality_root_mean_squared_error: 0.6017 - val_wine_type_binary_accuracy: 0.9899\n",
            "Epoch 124/180\n",
            "99/99 [==============================] - 0s 3ms/step - loss: 0.2760 - wine_quality_loss: 0.2586 - wine_type_loss: 0.0174 - wine_quality_root_mean_squared_error: 0.5085 - wine_type_binary_accuracy: 0.9968 - val_loss: 0.4011 - val_wine_quality_loss: 0.3550 - val_wine_type_loss: 0.0460 - val_wine_quality_root_mean_squared_error: 0.5958 - val_wine_type_binary_accuracy: 0.9899\n",
            "Epoch 125/180\n",
            "99/99 [==============================] - 0s 3ms/step - loss: 0.2753 - wine_quality_loss: 0.2579 - wine_type_loss: 0.0174 - wine_quality_root_mean_squared_error: 0.5079 - wine_type_binary_accuracy: 0.9971 - val_loss: 0.3949 - val_wine_quality_loss: 0.3492 - val_wine_type_loss: 0.0458 - val_wine_quality_root_mean_squared_error: 0.5909 - val_wine_type_binary_accuracy: 0.9899\n",
            "Epoch 126/180\n",
            "99/99 [==============================] - 0s 3ms/step - loss: 0.2736 - wine_quality_loss: 0.2563 - wine_type_loss: 0.0173 - wine_quality_root_mean_squared_error: 0.5063 - wine_type_binary_accuracy: 0.9971 - val_loss: 0.3963 - val_wine_quality_loss: 0.3505 - val_wine_type_loss: 0.0459 - val_wine_quality_root_mean_squared_error: 0.5920 - val_wine_type_binary_accuracy: 0.9899\n",
            "Epoch 127/180\n",
            "99/99 [==============================] - 0s 3ms/step - loss: 0.2746 - wine_quality_loss: 0.2573 - wine_type_loss: 0.0173 - wine_quality_root_mean_squared_error: 0.5072 - wine_type_binary_accuracy: 0.9971 - val_loss: 0.3938 - val_wine_quality_loss: 0.3480 - val_wine_type_loss: 0.0458 - val_wine_quality_root_mean_squared_error: 0.5899 - val_wine_type_binary_accuracy: 0.9899\n",
            "Epoch 128/180\n",
            "99/99 [==============================] - 0s 3ms/step - loss: 0.2742 - wine_quality_loss: 0.2570 - wine_type_loss: 0.0172 - wine_quality_root_mean_squared_error: 0.5069 - wine_type_binary_accuracy: 0.9971 - val_loss: 0.3917 - val_wine_quality_loss: 0.3459 - val_wine_type_loss: 0.0458 - val_wine_quality_root_mean_squared_error: 0.5881 - val_wine_type_binary_accuracy: 0.9899\n",
            "Epoch 129/180\n",
            "99/99 [==============================] - 0s 3ms/step - loss: 0.2739 - wine_quality_loss: 0.2567 - wine_type_loss: 0.0171 - wine_quality_root_mean_squared_error: 0.5067 - wine_type_binary_accuracy: 0.9971 - val_loss: 0.3948 - val_wine_quality_loss: 0.3488 - val_wine_type_loss: 0.0460 - val_wine_quality_root_mean_squared_error: 0.5906 - val_wine_type_binary_accuracy: 0.9899\n",
            "Epoch 130/180\n",
            "99/99 [==============================] - 0s 3ms/step - loss: 0.2731 - wine_quality_loss: 0.2560 - wine_type_loss: 0.0171 - wine_quality_root_mean_squared_error: 0.5060 - wine_type_binary_accuracy: 0.9971 - val_loss: 0.4022 - val_wine_quality_loss: 0.3564 - val_wine_type_loss: 0.0458 - val_wine_quality_root_mean_squared_error: 0.5970 - val_wine_type_binary_accuracy: 0.9899\n",
            "Epoch 131/180\n",
            "99/99 [==============================] - 0s 3ms/step - loss: 0.2720 - wine_quality_loss: 0.2549 - wine_type_loss: 0.0171 - wine_quality_root_mean_squared_error: 0.5049 - wine_type_binary_accuracy: 0.9971 - val_loss: 0.3989 - val_wine_quality_loss: 0.3531 - val_wine_type_loss: 0.0458 - val_wine_quality_root_mean_squared_error: 0.5942 - val_wine_type_binary_accuracy: 0.9899\n",
            "Epoch 132/180\n",
            "99/99 [==============================] - 0s 3ms/step - loss: 0.2728 - wine_quality_loss: 0.2558 - wine_type_loss: 0.0170 - wine_quality_root_mean_squared_error: 0.5058 - wine_type_binary_accuracy: 0.9971 - val_loss: 0.3977 - val_wine_quality_loss: 0.3519 - val_wine_type_loss: 0.0457 - val_wine_quality_root_mean_squared_error: 0.5932 - val_wine_type_binary_accuracy: 0.9899\n",
            "Epoch 133/180\n",
            "99/99 [==============================] - 0s 3ms/step - loss: 0.2724 - wine_quality_loss: 0.2555 - wine_type_loss: 0.0169 - wine_quality_root_mean_squared_error: 0.5055 - wine_type_binary_accuracy: 0.9971 - val_loss: 0.3969 - val_wine_quality_loss: 0.3511 - val_wine_type_loss: 0.0458 - val_wine_quality_root_mean_squared_error: 0.5926 - val_wine_type_binary_accuracy: 0.9899\n",
            "Epoch 134/180\n",
            "99/99 [==============================] - 0s 3ms/step - loss: 0.2708 - wine_quality_loss: 0.2539 - wine_type_loss: 0.0168 - wine_quality_root_mean_squared_error: 0.5039 - wine_type_binary_accuracy: 0.9971 - val_loss: 0.3960 - val_wine_quality_loss: 0.3502 - val_wine_type_loss: 0.0457 - val_wine_quality_root_mean_squared_error: 0.5918 - val_wine_type_binary_accuracy: 0.9899\n",
            "Epoch 135/180\n",
            "99/99 [==============================] - 0s 3ms/step - loss: 0.2715 - wine_quality_loss: 0.2547 - wine_type_loss: 0.0168 - wine_quality_root_mean_squared_error: 0.5047 - wine_type_binary_accuracy: 0.9971 - val_loss: 0.3967 - val_wine_quality_loss: 0.3511 - val_wine_type_loss: 0.0456 - val_wine_quality_root_mean_squared_error: 0.5926 - val_wine_type_binary_accuracy: 0.9899\n",
            "Epoch 136/180\n",
            "99/99 [==============================] - 0s 3ms/step - loss: 0.2703 - wine_quality_loss: 0.2534 - wine_type_loss: 0.0168 - wine_quality_root_mean_squared_error: 0.5034 - wine_type_binary_accuracy: 0.9971 - val_loss: 0.3936 - val_wine_quality_loss: 0.3479 - val_wine_type_loss: 0.0457 - val_wine_quality_root_mean_squared_error: 0.5898 - val_wine_type_binary_accuracy: 0.9899\n",
            "Epoch 137/180\n",
            "99/99 [==============================] - 0s 3ms/step - loss: 0.2705 - wine_quality_loss: 0.2538 - wine_type_loss: 0.0167 - wine_quality_root_mean_squared_error: 0.5038 - wine_type_binary_accuracy: 0.9971 - val_loss: 0.3935 - val_wine_quality_loss: 0.3478 - val_wine_type_loss: 0.0457 - val_wine_quality_root_mean_squared_error: 0.5897 - val_wine_type_binary_accuracy: 0.9899\n",
            "Epoch 138/180\n",
            "99/99 [==============================] - 0s 3ms/step - loss: 0.2693 - wine_quality_loss: 0.2525 - wine_type_loss: 0.0168 - wine_quality_root_mean_squared_error: 0.5025 - wine_type_binary_accuracy: 0.9971 - val_loss: 0.3960 - val_wine_quality_loss: 0.3503 - val_wine_type_loss: 0.0457 - val_wine_quality_root_mean_squared_error: 0.5919 - val_wine_type_binary_accuracy: 0.9899\n",
            "Epoch 139/180\n",
            "99/99 [==============================] - 0s 3ms/step - loss: 0.2688 - wine_quality_loss: 0.2521 - wine_type_loss: 0.0167 - wine_quality_root_mean_squared_error: 0.5021 - wine_type_binary_accuracy: 0.9971 - val_loss: 0.3936 - val_wine_quality_loss: 0.3481 - val_wine_type_loss: 0.0455 - val_wine_quality_root_mean_squared_error: 0.5900 - val_wine_type_binary_accuracy: 0.9899\n",
            "Epoch 140/180\n",
            "99/99 [==============================] - 0s 3ms/step - loss: 0.2685 - wine_quality_loss: 0.2519 - wine_type_loss: 0.0166 - wine_quality_root_mean_squared_error: 0.5019 - wine_type_binary_accuracy: 0.9971 - val_loss: 0.3952 - val_wine_quality_loss: 0.3497 - val_wine_type_loss: 0.0455 - val_wine_quality_root_mean_squared_error: 0.5913 - val_wine_type_binary_accuracy: 0.9899\n",
            "Epoch 141/180\n",
            "99/99 [==============================] - 0s 3ms/step - loss: 0.2681 - wine_quality_loss: 0.2516 - wine_type_loss: 0.0165 - wine_quality_root_mean_squared_error: 0.5016 - wine_type_binary_accuracy: 0.9971 - val_loss: 0.3954 - val_wine_quality_loss: 0.3499 - val_wine_type_loss: 0.0456 - val_wine_quality_root_mean_squared_error: 0.5915 - val_wine_type_binary_accuracy: 0.9899\n",
            "Epoch 142/180\n",
            "99/99 [==============================] - 0s 3ms/step - loss: 0.2670 - wine_quality_loss: 0.2506 - wine_type_loss: 0.0164 - wine_quality_root_mean_squared_error: 0.5006 - wine_type_binary_accuracy: 0.9971 - val_loss: 0.3976 - val_wine_quality_loss: 0.3518 - val_wine_type_loss: 0.0458 - val_wine_quality_root_mean_squared_error: 0.5931 - val_wine_type_binary_accuracy: 0.9899\n",
            "Epoch 143/180\n",
            "99/99 [==============================] - 0s 3ms/step - loss: 0.2666 - wine_quality_loss: 0.2501 - wine_type_loss: 0.0165 - wine_quality_root_mean_squared_error: 0.5001 - wine_type_binary_accuracy: 0.9971 - val_loss: 0.3962 - val_wine_quality_loss: 0.3505 - val_wine_type_loss: 0.0457 - val_wine_quality_root_mean_squared_error: 0.5920 - val_wine_type_binary_accuracy: 0.9899\n",
            "Epoch 144/180\n",
            "99/99 [==============================] - 0s 3ms/step - loss: 0.2666 - wine_quality_loss: 0.2502 - wine_type_loss: 0.0164 - wine_quality_root_mean_squared_error: 0.5002 - wine_type_binary_accuracy: 0.9971 - val_loss: 0.3915 - val_wine_quality_loss: 0.3457 - val_wine_type_loss: 0.0458 - val_wine_quality_root_mean_squared_error: 0.5880 - val_wine_type_binary_accuracy: 0.9899\n",
            "Epoch 145/180\n",
            "99/99 [==============================] - 0s 3ms/step - loss: 0.2654 - wine_quality_loss: 0.2491 - wine_type_loss: 0.0163 - wine_quality_root_mean_squared_error: 0.4991 - wine_type_binary_accuracy: 0.9971 - val_loss: 0.3972 - val_wine_quality_loss: 0.3517 - val_wine_type_loss: 0.0455 - val_wine_quality_root_mean_squared_error: 0.5931 - val_wine_type_binary_accuracy: 0.9899\n",
            "Epoch 146/180\n",
            "99/99 [==============================] - 0s 3ms/step - loss: 0.2656 - wine_quality_loss: 0.2493 - wine_type_loss: 0.0163 - wine_quality_root_mean_squared_error: 0.4993 - wine_type_binary_accuracy: 0.9971 - val_loss: 0.3945 - val_wine_quality_loss: 0.3490 - val_wine_type_loss: 0.0454 - val_wine_quality_root_mean_squared_error: 0.5908 - val_wine_type_binary_accuracy: 0.9899\n",
            "Epoch 147/180\n",
            "99/99 [==============================] - 0s 3ms/step - loss: 0.2658 - wine_quality_loss: 0.2496 - wine_type_loss: 0.0162 - wine_quality_root_mean_squared_error: 0.4996 - wine_type_binary_accuracy: 0.9971 - val_loss: 0.3922 - val_wine_quality_loss: 0.3467 - val_wine_type_loss: 0.0455 - val_wine_quality_root_mean_squared_error: 0.5888 - val_wine_type_binary_accuracy: 0.9899\n",
            "Epoch 148/180\n",
            "99/99 [==============================] - 0s 3ms/step - loss: 0.2647 - wine_quality_loss: 0.2485 - wine_type_loss: 0.0162 - wine_quality_root_mean_squared_error: 0.4985 - wine_type_binary_accuracy: 0.9971 - val_loss: 0.3943 - val_wine_quality_loss: 0.3489 - val_wine_type_loss: 0.0455 - val_wine_quality_root_mean_squared_error: 0.5906 - val_wine_type_binary_accuracy: 0.9899\n",
            "Epoch 149/180\n",
            "99/99 [==============================] - 0s 3ms/step - loss: 0.2651 - wine_quality_loss: 0.2490 - wine_type_loss: 0.0161 - wine_quality_root_mean_squared_error: 0.4990 - wine_type_binary_accuracy: 0.9971 - val_loss: 0.4068 - val_wine_quality_loss: 0.3615 - val_wine_type_loss: 0.0453 - val_wine_quality_root_mean_squared_error: 0.6012 - val_wine_type_binary_accuracy: 0.9899\n",
            "Epoch 150/180\n",
            "99/99 [==============================] - 0s 3ms/step - loss: 0.2642 - wine_quality_loss: 0.2480 - wine_type_loss: 0.0162 - wine_quality_root_mean_squared_error: 0.4980 - wine_type_binary_accuracy: 0.9971 - val_loss: 0.3925 - val_wine_quality_loss: 0.3470 - val_wine_type_loss: 0.0455 - val_wine_quality_root_mean_squared_error: 0.5891 - val_wine_type_binary_accuracy: 0.9899\n",
            "Epoch 151/180\n",
            "99/99 [==============================] - 0s 3ms/step - loss: 0.2638 - wine_quality_loss: 0.2477 - wine_type_loss: 0.0160 - wine_quality_root_mean_squared_error: 0.4977 - wine_type_binary_accuracy: 0.9971 - val_loss: 0.4011 - val_wine_quality_loss: 0.3557 - val_wine_type_loss: 0.0454 - val_wine_quality_root_mean_squared_error: 0.5964 - val_wine_type_binary_accuracy: 0.9899\n",
            "Epoch 152/180\n",
            "99/99 [==============================] - 0s 3ms/step - loss: 0.2637 - wine_quality_loss: 0.2477 - wine_type_loss: 0.0160 - wine_quality_root_mean_squared_error: 0.4977 - wine_type_binary_accuracy: 0.9971 - val_loss: 0.3971 - val_wine_quality_loss: 0.3516 - val_wine_type_loss: 0.0455 - val_wine_quality_root_mean_squared_error: 0.5930 - val_wine_type_binary_accuracy: 0.9899\n",
            "Epoch 153/180\n",
            "99/99 [==============================] - 0s 3ms/step - loss: 0.2624 - wine_quality_loss: 0.2465 - wine_type_loss: 0.0159 - wine_quality_root_mean_squared_error: 0.4964 - wine_type_binary_accuracy: 0.9971 - val_loss: 0.3958 - val_wine_quality_loss: 0.3504 - val_wine_type_loss: 0.0455 - val_wine_quality_root_mean_squared_error: 0.5919 - val_wine_type_binary_accuracy: 0.9899\n",
            "Epoch 154/180\n",
            "99/99 [==============================] - 0s 3ms/step - loss: 0.2607 - wine_quality_loss: 0.2448 - wine_type_loss: 0.0159 - wine_quality_root_mean_squared_error: 0.4948 - wine_type_binary_accuracy: 0.9971 - val_loss: 0.3944 - val_wine_quality_loss: 0.3490 - val_wine_type_loss: 0.0454 - val_wine_quality_root_mean_squared_error: 0.5907 - val_wine_type_binary_accuracy: 0.9899\n",
            "Epoch 155/180\n",
            "99/99 [==============================] - 0s 3ms/step - loss: 0.2618 - wine_quality_loss: 0.2459 - wine_type_loss: 0.0159 - wine_quality_root_mean_squared_error: 0.4959 - wine_type_binary_accuracy: 0.9971 - val_loss: 0.3985 - val_wine_quality_loss: 0.3533 - val_wine_type_loss: 0.0452 - val_wine_quality_root_mean_squared_error: 0.5944 - val_wine_type_binary_accuracy: 0.9899\n",
            "Epoch 156/180\n",
            "99/99 [==============================] - 0s 3ms/step - loss: 0.2615 - wine_quality_loss: 0.2457 - wine_type_loss: 0.0158 - wine_quality_root_mean_squared_error: 0.4957 - wine_type_binary_accuracy: 0.9971 - val_loss: 0.3936 - val_wine_quality_loss: 0.3482 - val_wine_type_loss: 0.0454 - val_wine_quality_root_mean_squared_error: 0.5901 - val_wine_type_binary_accuracy: 0.9899\n",
            "Epoch 157/180\n",
            "99/99 [==============================] - 0s 4ms/step - loss: 0.2605 - wine_quality_loss: 0.2448 - wine_type_loss: 0.0157 - wine_quality_root_mean_squared_error: 0.4947 - wine_type_binary_accuracy: 0.9971 - val_loss: 0.3962 - val_wine_quality_loss: 0.3506 - val_wine_type_loss: 0.0457 - val_wine_quality_root_mean_squared_error: 0.5921 - val_wine_type_binary_accuracy: 0.9911\n",
            "Epoch 158/180\n",
            "99/99 [==============================] - 0s 3ms/step - loss: 0.2610 - wine_quality_loss: 0.2453 - wine_type_loss: 0.0157 - wine_quality_root_mean_squared_error: 0.4953 - wine_type_binary_accuracy: 0.9971 - val_loss: 0.3949 - val_wine_quality_loss: 0.3492 - val_wine_type_loss: 0.0457 - val_wine_quality_root_mean_squared_error: 0.5909 - val_wine_type_binary_accuracy: 0.9911\n",
            "Epoch 159/180\n",
            "99/99 [==============================] - 0s 3ms/step - loss: 0.2604 - wine_quality_loss: 0.2446 - wine_type_loss: 0.0157 - wine_quality_root_mean_squared_error: 0.4946 - wine_type_binary_accuracy: 0.9971 - val_loss: 0.3916 - val_wine_quality_loss: 0.3461 - val_wine_type_loss: 0.0455 - val_wine_quality_root_mean_squared_error: 0.5883 - val_wine_type_binary_accuracy: 0.9911\n",
            "Epoch 160/180\n",
            "99/99 [==============================] - 0s 3ms/step - loss: 0.2598 - wine_quality_loss: 0.2441 - wine_type_loss: 0.0157 - wine_quality_root_mean_squared_error: 0.4941 - wine_type_binary_accuracy: 0.9971 - val_loss: 0.3999 - val_wine_quality_loss: 0.3542 - val_wine_type_loss: 0.0457 - val_wine_quality_root_mean_squared_error: 0.5952 - val_wine_type_binary_accuracy: 0.9911\n",
            "Epoch 161/180\n",
            "99/99 [==============================] - 0s 3ms/step - loss: 0.2594 - wine_quality_loss: 0.2438 - wine_type_loss: 0.0157 - wine_quality_root_mean_squared_error: 0.4937 - wine_type_binary_accuracy: 0.9971 - val_loss: 0.3939 - val_wine_quality_loss: 0.3485 - val_wine_type_loss: 0.0454 - val_wine_quality_root_mean_squared_error: 0.5903 - val_wine_type_binary_accuracy: 0.9911\n",
            "Epoch 162/180\n",
            "99/99 [==============================] - 0s 3ms/step - loss: 0.2596 - wine_quality_loss: 0.2440 - wine_type_loss: 0.0156 - wine_quality_root_mean_squared_error: 0.4940 - wine_type_binary_accuracy: 0.9971 - val_loss: 0.4029 - val_wine_quality_loss: 0.3575 - val_wine_type_loss: 0.0455 - val_wine_quality_root_mean_squared_error: 0.5979 - val_wine_type_binary_accuracy: 0.9911\n",
            "Epoch 163/180\n",
            "99/99 [==============================] - 0s 3ms/step - loss: 0.2591 - wine_quality_loss: 0.2435 - wine_type_loss: 0.0155 - wine_quality_root_mean_squared_error: 0.4935 - wine_type_binary_accuracy: 0.9971 - val_loss: 0.3962 - val_wine_quality_loss: 0.3506 - val_wine_type_loss: 0.0456 - val_wine_quality_root_mean_squared_error: 0.5921 - val_wine_type_binary_accuracy: 0.9911\n",
            "Epoch 164/180\n",
            "99/99 [==============================] - 0s 3ms/step - loss: 0.2583 - wine_quality_loss: 0.2428 - wine_type_loss: 0.0155 - wine_quality_root_mean_squared_error: 0.4927 - wine_type_binary_accuracy: 0.9971 - val_loss: 0.3972 - val_wine_quality_loss: 0.3517 - val_wine_type_loss: 0.0456 - val_wine_quality_root_mean_squared_error: 0.5930 - val_wine_type_binary_accuracy: 0.9911\n",
            "Epoch 165/180\n",
            "99/99 [==============================] - 0s 3ms/step - loss: 0.2579 - wine_quality_loss: 0.2424 - wine_type_loss: 0.0155 - wine_quality_root_mean_squared_error: 0.4924 - wine_type_binary_accuracy: 0.9971 - val_loss: 0.4004 - val_wine_quality_loss: 0.3547 - val_wine_type_loss: 0.0456 - val_wine_quality_root_mean_squared_error: 0.5956 - val_wine_type_binary_accuracy: 0.9911\n",
            "Epoch 166/180\n",
            "99/99 [==============================] - 0s 3ms/step - loss: 0.2573 - wine_quality_loss: 0.2418 - wine_type_loss: 0.0155 - wine_quality_root_mean_squared_error: 0.4917 - wine_type_binary_accuracy: 0.9971 - val_loss: 0.3973 - val_wine_quality_loss: 0.3516 - val_wine_type_loss: 0.0457 - val_wine_quality_root_mean_squared_error: 0.5929 - val_wine_type_binary_accuracy: 0.9911\n",
            "Epoch 167/180\n",
            "99/99 [==============================] - 0s 3ms/step - loss: 0.2577 - wine_quality_loss: 0.2423 - wine_type_loss: 0.0154 - wine_quality_root_mean_squared_error: 0.4922 - wine_type_binary_accuracy: 0.9971 - val_loss: 0.3940 - val_wine_quality_loss: 0.3485 - val_wine_type_loss: 0.0455 - val_wine_quality_root_mean_squared_error: 0.5904 - val_wine_type_binary_accuracy: 0.9911\n",
            "Epoch 168/180\n",
            "99/99 [==============================] - 0s 3ms/step - loss: 0.2565 - wine_quality_loss: 0.2412 - wine_type_loss: 0.0154 - wine_quality_root_mean_squared_error: 0.4911 - wine_type_binary_accuracy: 0.9971 - val_loss: 0.3972 - val_wine_quality_loss: 0.3518 - val_wine_type_loss: 0.0454 - val_wine_quality_root_mean_squared_error: 0.5931 - val_wine_type_binary_accuracy: 0.9911\n",
            "Epoch 169/180\n",
            "99/99 [==============================] - 0s 3ms/step - loss: 0.2561 - wine_quality_loss: 0.2408 - wine_type_loss: 0.0153 - wine_quality_root_mean_squared_error: 0.4907 - wine_type_binary_accuracy: 0.9971 - val_loss: 0.3958 - val_wine_quality_loss: 0.3505 - val_wine_type_loss: 0.0453 - val_wine_quality_root_mean_squared_error: 0.5920 - val_wine_type_binary_accuracy: 0.9911\n",
            "Epoch 170/180\n",
            "99/99 [==============================] - 0s 3ms/step - loss: 0.2561 - wine_quality_loss: 0.2409 - wine_type_loss: 0.0153 - wine_quality_root_mean_squared_error: 0.4908 - wine_type_binary_accuracy: 0.9971 - val_loss: 0.3950 - val_wine_quality_loss: 0.3497 - val_wine_type_loss: 0.0453 - val_wine_quality_root_mean_squared_error: 0.5914 - val_wine_type_binary_accuracy: 0.9911\n",
            "Epoch 171/180\n",
            "99/99 [==============================] - 0s 3ms/step - loss: 0.2555 - wine_quality_loss: 0.2402 - wine_type_loss: 0.0153 - wine_quality_root_mean_squared_error: 0.4901 - wine_type_binary_accuracy: 0.9971 - val_loss: 0.4030 - val_wine_quality_loss: 0.3577 - val_wine_type_loss: 0.0453 - val_wine_quality_root_mean_squared_error: 0.5981 - val_wine_type_binary_accuracy: 0.9911\n",
            "Epoch 172/180\n",
            "99/99 [==============================] - 0s 3ms/step - loss: 0.2541 - wine_quality_loss: 0.2388 - wine_type_loss: 0.0153 - wine_quality_root_mean_squared_error: 0.4887 - wine_type_binary_accuracy: 0.9971 - val_loss: 0.4006 - val_wine_quality_loss: 0.3551 - val_wine_type_loss: 0.0455 - val_wine_quality_root_mean_squared_error: 0.5959 - val_wine_type_binary_accuracy: 0.9911\n",
            "Epoch 173/180\n",
            "99/99 [==============================] - 0s 3ms/step - loss: 0.2534 - wine_quality_loss: 0.2383 - wine_type_loss: 0.0151 - wine_quality_root_mean_squared_error: 0.4882 - wine_type_binary_accuracy: 0.9971 - val_loss: 0.3974 - val_wine_quality_loss: 0.3519 - val_wine_type_loss: 0.0454 - val_wine_quality_root_mean_squared_error: 0.5932 - val_wine_type_binary_accuracy: 0.9911\n",
            "Epoch 174/180\n",
            "99/99 [==============================] - 0s 3ms/step - loss: 0.2541 - wine_quality_loss: 0.2390 - wine_type_loss: 0.0151 - wine_quality_root_mean_squared_error: 0.4889 - wine_type_binary_accuracy: 0.9971 - val_loss: 0.3970 - val_wine_quality_loss: 0.3514 - val_wine_type_loss: 0.0455 - val_wine_quality_root_mean_squared_error: 0.5928 - val_wine_type_binary_accuracy: 0.9911\n",
            "Epoch 175/180\n",
            "99/99 [==============================] - 0s 3ms/step - loss: 0.2533 - wine_quality_loss: 0.2382 - wine_type_loss: 0.0151 - wine_quality_root_mean_squared_error: 0.4881 - wine_type_binary_accuracy: 0.9971 - val_loss: 0.3940 - val_wine_quality_loss: 0.3484 - val_wine_type_loss: 0.0457 - val_wine_quality_root_mean_squared_error: 0.5902 - val_wine_type_binary_accuracy: 0.9911\n",
            "Epoch 176/180\n",
            "99/99 [==============================] - 0s 3ms/step - loss: 0.2539 - wine_quality_loss: 0.2388 - wine_type_loss: 0.0151 - wine_quality_root_mean_squared_error: 0.4887 - wine_type_binary_accuracy: 0.9971 - val_loss: 0.3973 - val_wine_quality_loss: 0.3517 - val_wine_type_loss: 0.0456 - val_wine_quality_root_mean_squared_error: 0.5931 - val_wine_type_binary_accuracy: 0.9911\n",
            "Epoch 177/180\n",
            "99/99 [==============================] - 0s 3ms/step - loss: 0.2531 - wine_quality_loss: 0.2380 - wine_type_loss: 0.0150 - wine_quality_root_mean_squared_error: 0.4879 - wine_type_binary_accuracy: 0.9971 - val_loss: 0.3943 - val_wine_quality_loss: 0.3489 - val_wine_type_loss: 0.0454 - val_wine_quality_root_mean_squared_error: 0.5906 - val_wine_type_binary_accuracy: 0.9911\n",
            "Epoch 178/180\n",
            "99/99 [==============================] - 0s 3ms/step - loss: 0.2526 - wine_quality_loss: 0.2376 - wine_type_loss: 0.0150 - wine_quality_root_mean_squared_error: 0.4874 - wine_type_binary_accuracy: 0.9971 - val_loss: 0.4014 - val_wine_quality_loss: 0.3560 - val_wine_type_loss: 0.0453 - val_wine_quality_root_mean_squared_error: 0.5967 - val_wine_type_binary_accuracy: 0.9911\n",
            "Epoch 179/180\n",
            "99/99 [==============================] - 0s 3ms/step - loss: 0.2525 - wine_quality_loss: 0.2375 - wine_type_loss: 0.0149 - wine_quality_root_mean_squared_error: 0.4874 - wine_type_binary_accuracy: 0.9971 - val_loss: 0.4041 - val_wine_quality_loss: 0.3587 - val_wine_type_loss: 0.0454 - val_wine_quality_root_mean_squared_error: 0.5990 - val_wine_type_binary_accuracy: 0.9911\n",
            "Epoch 180/180\n",
            "99/99 [==============================] - 0s 3ms/step - loss: 0.2510 - wine_quality_loss: 0.2361 - wine_type_loss: 0.0149 - wine_quality_root_mean_squared_error: 0.4859 - wine_type_binary_accuracy: 0.9971 - val_loss: 0.3945 - val_wine_quality_loss: 0.3492 - val_wine_type_loss: 0.0453 - val_wine_quality_root_mean_squared_error: 0.5909 - val_wine_type_binary_accuracy: 0.9911\n"
          ],
          "name": "stdout"
        }
      ]
    },
    {
      "cell_type": "code",
      "metadata": {
        "colab": {
          "base_uri": "https://localhost:8080/"
        },
        "id": "yvLFoiJfyJXU",
        "outputId": "5f5a7275-7d92-46a9-a7c3-375db2d5c709"
      },
      "source": [
        "# Gather the training metrics\n",
        "loss, wine_quality_loss, wine_type_loss, wine_quality_rmse, wine_type_accuracy = model.evaluate(x=norm_val_X, y=val_Y)\n",
        "\n",
        "print()\n",
        "print(f'loss: {loss}')\n",
        "print(f'wine_quality_loss: {wine_quality_loss}')\n",
        "print(f'wine_type_loss: {wine_type_loss}')\n",
        "print(f'wine_quality_rmse: {wine_quality_rmse}')\n",
        "print(f'wine_type_accuracy: {wine_type_accuracy}')"
      ],
      "execution_count": null,
      "outputs": [
        {
          "output_type": "stream",
          "text": [
            "25/25 [==============================] - 0s 2ms/step - loss: 0.3945 - wine_quality_loss: 0.3492 - wine_type_loss: 0.0453 - wine_quality_root_mean_squared_error: 0.5909 - wine_type_binary_accuracy: 0.9911\n",
            "\n",
            "loss: 0.3945264518260956\n",
            "wine_quality_loss: 0.3492109179496765\n",
            "wine_type_loss: 0.04531550407409668\n",
            "wine_quality_rmse: 0.5909407138824463\n",
            "wine_type_accuracy: 0.9911280274391174\n"
          ],
          "name": "stdout"
        }
      ]
    },
    {
      "cell_type": "code",
      "metadata": {
        "id": "lPBBk_GZyaW6"
      },
      "source": [
        "predictions = model.predict(norm_test_X)\n",
        "quality_pred = predictions[0]\n",
        "type_pred = predictions[1]"
      ],
      "execution_count": null,
      "outputs": []
    },
    {
      "cell_type": "code",
      "metadata": {
        "id": "rMQQSvWwyboB"
      },
      "source": [
        "def plot_metrics(metric_name, title, ylim=5):\n",
        "    plt.title(title)\n",
        "    plt.ylim(0,ylim)\n",
        "    plt.plot(history.history[metric_name],color='blue',label=metric_name)\n",
        "    plt.plot(history.history['val_' + metric_name],color='green',label='val_' + metric_name)\n",
        "    plt.legend(loc=\"best\")\n"
      ],
      "execution_count": null,
      "outputs": []
    },
    {
      "cell_type": "code",
      "metadata": {
        "id": "RZzm2WC_ydIR"
      },
      "source": [
        "def plot_confusion_matrix(y_true, y_pred, title='', labels=[0,1]):\n",
        "    cm = confusion_matrix(y_true, y_pred)\n",
        "    fig = plt.figure()\n",
        "    ax = fig.add_subplot(111)\n",
        "    cax = ax.matshow(cm)\n",
        "    plt.title('Confusion matrix of the classifier')\n",
        "    fig.colorbar(cax)\n",
        "    ax.set_xticklabels([''] + labels)\n",
        "    ax.set_yticklabels([''] + labels)\n",
        "    plt.xlabel('Predicted')\n",
        "    plt.ylabel('True')\n",
        "    fmt = 'd'\n",
        "    thresh = cm.max() / 2.\n",
        "    for i, j in itertools.product(range(cm.shape[0]), range(cm.shape[1])):\n",
        "          plt.text(j, i, format(cm[i, j], fmt),\n",
        "                  horizontalalignment=\"center\",\n",
        "                  color=\"black\" if cm[i, j] > thresh else \"white\")\n",
        "    plt.show()"
      ],
      "execution_count": null,
      "outputs": []
    },
    {
      "cell_type": "code",
      "metadata": {
        "id": "_nEGr3O-yhSH"
      },
      "source": [
        "def plot_diff(y_true, y_pred, title = '' ):\n",
        "    plt.scatter(y_true, y_pred)\n",
        "    plt.title(title)\n",
        "    plt.xlabel('True Values')\n",
        "    plt.ylabel('Predictions')\n",
        "    plt.axis('equal')\n",
        "    plt.axis('square')\n",
        "    plt.plot([-100, 100], [-100, 100])\n",
        "    return plt"
      ],
      "execution_count": null,
      "outputs": []
    },
    {
      "cell_type": "code",
      "metadata": {
        "colab": {
          "base_uri": "https://localhost:8080/",
          "height": 281
        },
        "id": "coEzP5oTyiBk",
        "outputId": "3d692791-c680-4e78-feea-697ed14a6fbf"
      },
      "source": [
        "plot_metrics('wine_quality_root_mean_squared_error', 'RMSE', ylim=2)"
      ],
      "execution_count": null,
      "outputs": [
        {
          "output_type": "display_data",
          "data": {
            "image/png": "[encoded data removed]",
            "text/plain": [
              "<Figure size 432x288 with 1 Axes>"
            ]
          },
          "metadata": {
            "tags": [],
            "needs_background": "light"
          }
        }
      ]
    },
    {
      "cell_type": "code",
      "metadata": {
        "colab": {
          "base_uri": "https://localhost:8080/",
          "height": 281
        },
        "id": "6lORZzFiyi-6",
        "outputId": "2a066f6d-02d0-4d3b-d171-2e7781d9e8c6"
      },
      "source": [
        "plot_metrics('wine_type_loss', 'Wine Type Loss', ylim=0.2)"
      ],
      "execution_count": null,
      "outputs": [
        {
          "output_type": "display_data",
          "data": {
            "image/png": "[encoded data removed]",
            "text/plain": [
              "<Figure size 432x288 with 1 Axes>"
            ]
          },
          "metadata": {
            "tags": [],
            "needs_background": "light"
          }
        }
      ]
    },
    {
      "cell_type": "code",
      "metadata": {
        "id": "zKEP-wRxyxB3"
      },
      "source": [
        ""
      ],
      "execution_count": null,
      "outputs": []
    }
  ]
}